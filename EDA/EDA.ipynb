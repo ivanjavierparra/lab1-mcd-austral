{
 "cells": [
  {
   "cell_type": "markdown",
   "id": "a94866c2",
   "metadata": {},
   "source": [
    "## Librerias"
   ]
  },
  {
   "cell_type": "markdown",
   "id": "7e07f1e8-77a1-4d41-b86f-6625f86fb9d5",
   "metadata": {},
   "source": [
    "https://boxuancui.github.io/DataExplorer/index.html"
   ]
  },
  {
   "cell_type": "code",
   "execution_count": 1,
   "id": "f26f4c3b",
   "metadata": {},
   "outputs": [
    {
     "name": "stderr",
     "output_type": "stream",
     "text": [
      "Loading required package: data.table\n",
      "\n",
      "Loading required package: rpart\n",
      "\n",
      "Loading required package: rpart.plot\n",
      "\n",
      "Loading required package: ggplot2\n",
      "\n",
      "Loading required package: lattice\n",
      "\n"
     ]
    }
   ],
   "source": [
    "# Librerias\n",
    "require(\"data.table\")\n",
    "require(\"rpart\")\n",
    "require(\"rpart.plot\")\n",
    "library(\"caret\")"
   ]
  },
  {
   "cell_type": "code",
   "execution_count": 2,
   "id": "8978f31e",
   "metadata": {
    "scrolled": true
   },
   "outputs": [
    {
     "name": "stderr",
     "output_type": "stream",
     "text": [
      "\n",
      "Attaching package: 'pastecs'\n",
      "\n",
      "\n",
      "The following objects are masked from 'package:data.table':\n",
      "\n",
      "    first, last\n",
      "\n",
      "\n",
      "\n",
      "Attaching package: 'dplyr'\n",
      "\n",
      "\n",
      "The following objects are masked from 'package:pastecs':\n",
      "\n",
      "    first, last\n",
      "\n",
      "\n",
      "The following objects are masked from 'package:data.table':\n",
      "\n",
      "    between, first, last\n",
      "\n",
      "\n",
      "The following objects are masked from 'package:stats':\n",
      "\n",
      "    filter, lag\n",
      "\n",
      "\n",
      "The following objects are masked from 'package:base':\n",
      "\n",
      "    intersect, setdiff, setequal, union\n",
      "\n",
      "\n",
      "\n",
      "Attaching package: 'kableExtra'\n",
      "\n",
      "\n",
      "The following object is masked from 'package:dplyr':\n",
      "\n",
      "    group_rows\n",
      "\n",
      "\n"
     ]
    }
   ],
   "source": [
    "library(pastecs)\n",
    "library(summarytools)\n",
    "library(DataExplorer)\n",
    "library(dplyr)\n",
    "library(kableExtra)"
   ]
  },
  {
   "cell_type": "code",
   "execution_count": 12,
   "id": "7669506a-ff79-463e-9caf-e73704eb159b",
   "metadata": {},
   "outputs": [],
   "source": [
    "library(ggplot2)\n",
    "library(gridExtra)\n",
    "require(dplyr)"
   ]
  },
  {
   "cell_type": "code",
   "execution_count": 3,
   "id": "4632279a",
   "metadata": {},
   "outputs": [],
   "source": [
    "# cargo el dataset\n",
    "dataset <- fread(\"c:\\\\Users\\\\Usuario\\\\Documents\\\\Universidad\\\\austral\\\\2024\\\\lab1\\\\tps\\\\datasets\\\\dataset_pequeno.csv\")"
   ]
  },
  {
   "cell_type": "code",
   "execution_count": 4,
   "id": "fe96bbad",
   "metadata": {},
   "outputs": [],
   "source": [
    "dtrain <- dataset[foto_mes == 202107] # defino donde voy a entrenar\n",
    "dtest <- dataset[foto_mes == 202109] # defino donde voy a aplicar el modelo"
   ]
  },
  {
   "cell_type": "markdown",
   "id": "8d3b2ebd-fb01-4e10-9dca-cf5f98df84be",
   "metadata": {},
   "source": [
    "# Análisis Exploratorio de Datos"
   ]
  },
  {
   "cell_type": "code",
   "execution_count": null,
   "id": "29ee9f63",
   "metadata": {},
   "outputs": [],
   "source": [
    "head(dtrain)"
   ]
  },
  {
   "cell_type": "code",
   "execution_count": null,
   "id": "f381fd5c",
   "metadata": {},
   "outputs": [],
   "source": [
    "tail(dtrain)"
   ]
  },
  {
   "cell_type": "markdown",
   "id": "206bd4d8-edd5-4acb-b849-10415e66f723",
   "metadata": {},
   "source": [
    "## Introducción: filas, columnas, valores faltantes."
   ]
  },
  {
   "cell_type": "code",
   "execution_count": 17,
   "id": "f32dc7b8",
   "metadata": {},
   "outputs": [
    {
     "data": {
      "text/html": [
       "<table class=\"dataframe\">\n",
       "<caption>A data.table: 1 × 9</caption>\n",
       "<thead>\n",
       "\t<tr><th scope=col>rows</th><th scope=col>columns</th><th scope=col>discrete_columns</th><th scope=col>continuous_columns</th><th scope=col>all_missing_columns</th><th scope=col>total_missing_values</th><th scope=col>complete_rows</th><th scope=col>total_observations</th><th scope=col>memory_usage</th></tr>\n",
       "\t<tr><th scope=col>&lt;int&gt;</th><th scope=col>&lt;int&gt;</th><th scope=col>&lt;int&gt;</th><th scope=col>&lt;int&gt;</th><th scope=col>&lt;int&gt;</th><th scope=col>&lt;int&gt;</th><th scope=col>&lt;int&gt;</th><th scope=col>&lt;int&gt;</th><th scope=col>&lt;dbl&gt;</th></tr>\n",
       "</thead>\n",
       "<tbody>\n",
       "\t<tr><td>164596</td><td>155</td><td>1</td><td>154</td><td>0</td><td>1648475</td><td>264</td><td>25512380</td><td>150805440</td></tr>\n",
       "</tbody>\n",
       "</table>\n"
      ],
      "text/latex": [
       "A data.table: 1 × 9\n",
       "\\begin{tabular}{lllllllll}\n",
       " rows & columns & discrete\\_columns & continuous\\_columns & all\\_missing\\_columns & total\\_missing\\_values & complete\\_rows & total\\_observations & memory\\_usage\\\\\n",
       " <int> & <int> & <int> & <int> & <int> & <int> & <int> & <int> & <dbl>\\\\\n",
       "\\hline\n",
       "\t 164596 & 155 & 1 & 154 & 0 & 1648475 & 264 & 25512380 & 150805440\\\\\n",
       "\\end{tabular}\n"
      ],
      "text/markdown": [
       "\n",
       "A data.table: 1 × 9\n",
       "\n",
       "| rows &lt;int&gt; | columns &lt;int&gt; | discrete_columns &lt;int&gt; | continuous_columns &lt;int&gt; | all_missing_columns &lt;int&gt; | total_missing_values &lt;int&gt; | complete_rows &lt;int&gt; | total_observations &lt;int&gt; | memory_usage &lt;dbl&gt; |\n",
       "|---|---|---|---|---|---|---|---|---|\n",
       "| 164596 | 155 | 1 | 154 | 0 | 1648475 | 264 | 25512380 | 150805440 |\n",
       "\n"
      ],
      "text/plain": [
       "  rows   columns discrete_columns continuous_columns all_missing_columns\n",
       "1 164596 155     1                154                0                  \n",
       "  total_missing_values complete_rows total_observations memory_usage\n",
       "1 1648475              264           25512380           150805440   "
      ]
     },
     "metadata": {},
     "output_type": "display_data"
    }
   ],
   "source": [
    "introduce(dtrain)"
   ]
  },
  {
   "cell_type": "code",
   "execution_count": 16,
   "id": "d583da23",
   "metadata": {},
   "outputs": [
    {
     "data": {
      "text/html": [
       "<strong>png:</strong> 2"
      ],
      "text/latex": [
       "\\textbf{png:} 2"
      ],
      "text/markdown": [
       "**png:** 2"
      ],
      "text/plain": [
       "png \n",
       "  2 "
      ]
     },
     "metadata": {},
     "output_type": "display_data"
    }
   ],
   "source": [
    "pdf(\"introduccion.pdf\", width = 15, height = 15) \n",
    "plot_intro(dtrain)\n",
    "dev.off()"
   ]
  },
  {
   "cell_type": "markdown",
   "id": "963672aa-f954-4602-ad05-d4bc9e0fc47d",
   "metadata": {
    "tags": []
   },
   "source": [
    "## Descripción"
   ]
  },
  {
   "cell_type": "markdown",
   "id": "f6aef385-992c-4a8a-9b86-45f8f17ef7bc",
   "metadata": {},
   "source": [
    "<i>Es lo mismo que hacer : stat.desc(dtrain)</i>"
   ]
  },
  {
   "cell_type": "code",
   "execution_count": 34,
   "id": "c1b24c7e-8725-4c97-98b4-9c4dbb7329e4",
   "metadata": {},
   "outputs": [],
   "source": [
    "resumen <- summarytools::descr(dtrain, transpose = TRUE)"
   ]
  },
  {
   "cell_type": "code",
   "execution_count": 51,
   "id": "91a365ea-7dfa-46b9-a2a7-abb54636fbea",
   "metadata": {},
   "outputs": [],
   "source": [
    "head(resumen)"
   ]
  },
  {
   "cell_type": "code",
   "execution_count": 49,
   "id": "a64976c0-f34b-4981-b52a-89767eb160a2",
   "metadata": {},
   "outputs": [],
   "source": [
    "# Quito la notacion cientifica\n",
    "numeric_cols <- sapply(resumen, is.numeric)\n",
    "resumen[numeric_cols] <- lapply(resumen[, numeric_cols], function(x) format(x, scientific = FALSE))\n",
    "\n",
    "kbl(resumen, escape = FALSE) %>%\n",
    "  kable_paper() %>%\n",
    "  save_kable(file = \"descripcion.html\", self_contained = F)"
   ]
  },
  {
   "cell_type": "markdown",
   "id": "a6093d7e-34be-4c78-90ed-e5123181dc0b",
   "metadata": {
    "tags": []
   },
   "source": [
    "## Tipos de datos"
   ]
  },
  {
   "cell_type": "code",
   "execution_count": 10,
   "id": "ac9be68a-8852-43c5-9b3e-8dffa624eca4",
   "metadata": {},
   "outputs": [
    {
     "name": "stdout",
     "output_type": "stream",
     "text": [
      "Classes 'data.table' and 'data.frame':\t164596 obs. of  155 variables:\n",
      " $ numero_de_cliente                   : int  29183733 29184468 29185245 29186441 29186475 29187730 29187764 29187961 29189899 29189993 ...\n",
      " $ foto_mes                            : int  202107 202107 202107 202107 202107 202107 202107 202107 202107 202107 ...\n",
      " $ active_quarter                      : int  1 1 1 1 1 1 1 1 1 1 ...\n",
      " $ cliente_vip                         : int  0 0 0 0 0 0 0 0 0 0 ...\n",
      " $ internet                            : int  0 0 0 0 0 0 0 0 0 0 ...\n",
      " $ cliente_edad                        : int  46 42 55 62 66 65 56 62 60 59 ...\n",
      " $ cliente_antiguedad                  : int  99 284 23 296 326 326 91 326 379 74 ...\n",
      " $ mrentabilidad                       : num  2016 1634 3760 2693 4568 ...\n",
      " $ mrentabilidad_annual                : num  32147 13782 24297 75391 56306 ...\n",
      " $ mcomisiones                         : num  1099 603 2829 2494 3691 ...\n",
      " $ mactivos_margen                     : num  -113 -241 746 -2909 -1521 ...\n",
      " $ mpasivos_margen                     : num  894.6 1120 47.6 3079.4 2268.7 ...\n",
      " $ cproductos                          : int  8 9 7 7 8 8 10 7 12 9 ...\n",
      " $ tcuentas                            : int  1 1 1 1 1 1 1 1 1 1 ...\n",
      " $ ccuenta_corriente                   : int  1 1 1 1 1 1 1 1 2 1 ...\n",
      " $ mcuenta_corriente_adicional         : num  0 0 0 0 0 0 0 0 0 0 ...\n",
      " $ mcuenta_corriente                   : num  -542 0 -9579 0 0 ...\n",
      " $ ccaja_ahorro                        : int  2 2 2 2 3 2 2 2 4 2 ...\n",
      " $ mcaja_ahorro                        : num  4.02e+04 6.47e+04 4.90e-01 1.90e+05 9.94e+04 ...\n",
      " $ mcaja_ahorro_adicional              : num  0 0 0 0 21678 ...\n",
      " $ mcaja_ahorro_dolares                : num  11341 35486 0 33447 34196 ...\n",
      " $ cdescubierto_preacordado            : int  1 1 1 1 1 1 1 1 1 1 ...\n",
      " $ mcuentas_saldo                      : num  20380 133752 -3659 222688 91157 ...\n",
      " $ ctarjeta_debito                     : int  1 1 1 7 2 2 1 1 2 1 ...\n",
      " $ ctarjeta_debito_transacciones       : int  4 16 0 0 14 1 37 0 16 29 ...\n",
      " $ mautoservicio                       : num  58903 26462 0 0 15621 ...\n",
      " $ ctarjeta_visa                       : int  1 1 1 1 1 1 1 1 1 1 ...\n",
      " $ ctarjeta_visa_transacciones         : int  10 13 11 10 20 21 20 42 65 16 ...\n",
      " $ mtarjeta_visa_consumo               : num  23289 26237 58644 42453 60819 ...\n",
      " $ ctarjeta_master                     : int  1 1 1 1 1 1 1 1 1 0 ...\n",
      " $ ctarjeta_master_transacciones       : int  19 0 0 0 0 0 1 2 0 0 ...\n",
      " $ mtarjeta_master_consumo             : num  33110 0 0 0 0 ...\n",
      " $ cprestamos_personales               : int  0 1 0 0 0 0 2 0 0 0 ...\n",
      " $ mprestamos_personales               : num  0 76650 0 0 0 ...\n",
      " $ cprestamos_prendarios               : int  0 0 0 0 0 0 0 0 0 1 ...\n",
      " $ mprestamos_prendarios               : num  0 0 0 0 0 ...\n",
      " $ cprestamos_hipotecarios             : int  0 0 0 0 0 0 0 0 0 0 ...\n",
      " $ mprestamos_hipotecarios             : num  0 0 0 0 0 0 0 0 0 0 ...\n",
      " $ cplazo_fijo                         : int  0 0 0 0 0 0 0 0 3 0 ...\n",
      " $ mplazo_fijo_dolares                 : num  0 0 0 0 0 ...\n",
      " $ mplazo_fijo_pesos                   : num  0 0 0 0 0 0 0 0 0 0 ...\n",
      " $ cinversion1                         : int  0 0 0 0 0 0 0 0 0 0 ...\n",
      " $ minversion1_pesos                   : num  0 0 0 0 0 0 0 0 0 0 ...\n",
      " $ minversion1_dolares                 : num  0 0 0 0 0 0 0 0 0 0 ...\n",
      " $ cinversion2                         : int  0 0 0 0 0 0 0 0 0 0 ...\n",
      " $ minversion2                         : num  0 0 0 0 0 0 0 0 0 0 ...\n",
      " $ cseguro_vida                        : int  0 1 0 0 0 0 0 0 0 1 ...\n",
      " $ cseguro_auto                        : int  0 0 0 0 0 0 1 0 0 0 ...\n",
      " $ cseguro_vivienda                    : int  1 0 0 0 0 0 0 0 0 0 ...\n",
      " $ cseguro_accidentes_personales       : int  0 0 0 0 0 0 0 0 0 1 ...\n",
      " $ ccaja_seguridad                     : int  0 0 0 1 0 1 0 0 1 0 ...\n",
      " $ cpayroll_trx                        : int  1 1 0 0 0 2 1 0 0 0 ...\n",
      " $ mpayroll                            : num  113970 87918 0 0 0 ...\n",
      " $ mpayroll2                           : num  0 0 0 0 0 0 0 0 0 0 ...\n",
      " $ cpayroll2_trx                       : int  0 0 0 0 0 0 0 0 0 0 ...\n",
      " $ ccuenta_debitos_automaticos         : int  2 2 0 1 5 2 1 0 0 2 ...\n",
      " $ mcuenta_debitos_automaticos         : num  19296 4837 0 1373 5534 ...\n",
      " $ ctarjeta_visa_debitos_automaticos   : int  4 5 0 7 3 9 5 7 31 12 ...\n",
      " $ mttarjeta_visa_debitos_automaticos  : num  10014 6982 0 25255 6617 ...\n",
      " $ ctarjeta_master_debitos_automaticos : int  6 0 0 0 0 0 0 1 0 0 ...\n",
      " $ mttarjeta_master_debitos_automaticos: num  5116 0 0 0 0 ...\n",
      " $ cpagodeservicios                    : int  0 0 0 0 0 0 0 0 0 0 ...\n",
      " $ mpagodeservicios                    : num  0 0 0 0 0 0 0 0 0 0 ...\n",
      " $ cpagomiscuentas                     : int  0 0 0 6 10 5 4 14 3 1 ...\n",
      " $ mpagomiscuentas                     : num  0 0 0 28307 35971 ...\n",
      " $ ccajeros_propios_descuentos         : int  0 0 0 0 0 0 1 0 0 0 ...\n",
      " $ mcajeros_propios_descuentos         : num  0 0 0 0 0 ...\n",
      " $ ctarjeta_visa_descuentos            : int  1 0 0 0 0 1 0 0 0 0 ...\n",
      " $ mtarjeta_visa_descuentos            : num  NA 0 0 0 0 NA 0 0 0 0 ...\n",
      " $ ctarjeta_master_descuentos          : int  0 0 0 0 0 0 1 0 0 0 ...\n",
      " $ mtarjeta_master_descuentos          : num  0 0 0 0 0 0 0 0 0 0 ...\n",
      " $ ccomisiones_mantenimiento           : int  0 0 1 1 1 0 0 1 0 1 ...\n",
      " $ mcomisiones_mantenimiento           : num  0 0 3007 2129 2794 ...\n",
      " $ ccomisiones_otras                   : int  14 10 6 8 13 8 8 8 10 16 ...\n",
      " $ mcomisiones_otras                   : num  1099 603 2829 2494 3691 ...\n",
      " $ cforex                              : int  0 1 0 0 0 0 0 0 1 0 ...\n",
      " $ cforex_buy                          : int  0 0 0 0 0 0 0 0 0 0 ...\n",
      " $ mforex_buy                          : num  0 0 0 0 0 0 0 0 0 0 ...\n",
      " $ cforex_sell                         : int  0 1 0 0 0 0 0 0 1 0 ...\n",
      " $ mforex_sell                         : num  0 235 0 0 0 ...\n",
      " $ ctransferencias_recibidas           : int  1 1 0 0 2 0 5 1 5 11 ...\n",
      " $ mtransferencias_recibidas           : num  3120 87918 0 0 54235 ...\n",
      " $ ctransferencias_emitidas            : int  3 4 0 0 5 2 14 1 3 2 ...\n",
      " $ mtransferencias_emitidas            : num  26979 10088 0 0 154660 ...\n",
      " $ cextraccion_autoservicio            : int  0 1 0 0 3 9 4 0 3 0 ...\n",
      " $ mextraccion_autoservicio            : num  0 5865 0 0 70380 ...\n",
      " $ ccheques_depositados                : int  0 0 0 2 0 0 0 0 0 1 ...\n",
      " $ mcheques_depositados                : num  0 0 0 105570 0 ...\n",
      " $ ccheques_emitidos                   : int  0 0 0 0 0 0 0 0 0 0 ...\n",
      " $ mcheques_emitidos                   : num  0 0 0 0 0 0 0 0 0 0 ...\n",
      " $ ccheques_depositados_rechazados     : int  0 0 0 0 0 0 0 0 0 0 ...\n",
      " $ mcheques_depositados_rechazados     : num  0 0 0 0 0 0 0 0 0 0 ...\n",
      " $ ccheques_emitidos_rechazados        : int  0 0 0 0 0 0 0 0 0 0 ...\n",
      " $ mcheques_emitidos_rechazados        : num  0 0 0 0 0 0 0 0 0 0 ...\n",
      " $ tcallcenter                         : int  0 0 0 0 0 0 0 0 1 0 ...\n",
      " $ ccallcenter_transacciones           : int  0 0 0 0 0 0 0 0 3 0 ...\n",
      " $ thomebanking                        : int  1 0 1 1 1 1 1 1 1 1 ...\n",
      " $ chomebanking_transacciones          : int  4 4 6 21 96 69 52 150 126 34 ...\n",
      " $ ccajas_transacciones                : int  0 0 0 0 0 0 0 0 0 0 ...\n",
      "  [list output truncated]\n",
      " - attr(*, \".internal.selfref\")=<externalptr> \n"
     ]
    }
   ],
   "source": [
    "str(dtrain)"
   ]
  },
  {
   "cell_type": "code",
   "execution_count": 9,
   "id": "ba2e5394-e8a1-40f2-9c82-6a7fe0a0e517",
   "metadata": {},
   "outputs": [
    {
     "data": {
      "text/html": [
       "<style>\n",
       ".dl-inline {width: auto; margin:0; padding: 0}\n",
       ".dl-inline>dt, .dl-inline>dd {float: none; width: auto; display: inline-block}\n",
       ".dl-inline>dt::after {content: \":\\0020\"; padding-right: .5ex}\n",
       ".dl-inline>dt:not(:first-of-type) {padding-left: .5ex}\n",
       "</style><dl class=dl-inline><dt>numero_de_cliente</dt><dd>'integer'</dd><dt>foto_mes</dt><dd>'integer'</dd><dt>active_quarter</dt><dd>'integer'</dd><dt>cliente_vip</dt><dd>'integer'</dd><dt>internet</dt><dd>'integer'</dd><dt>cliente_edad</dt><dd>'integer'</dd><dt>cliente_antiguedad</dt><dd>'integer'</dd><dt>mrentabilidad</dt><dd>'numeric'</dd><dt>mrentabilidad_annual</dt><dd>'numeric'</dd><dt>mcomisiones</dt><dd>'numeric'</dd><dt>mactivos_margen</dt><dd>'numeric'</dd><dt>mpasivos_margen</dt><dd>'numeric'</dd><dt>cproductos</dt><dd>'integer'</dd><dt>tcuentas</dt><dd>'integer'</dd><dt>ccuenta_corriente</dt><dd>'integer'</dd><dt>mcuenta_corriente_adicional</dt><dd>'numeric'</dd><dt>mcuenta_corriente</dt><dd>'numeric'</dd><dt>ccaja_ahorro</dt><dd>'integer'</dd><dt>mcaja_ahorro</dt><dd>'numeric'</dd><dt>mcaja_ahorro_adicional</dt><dd>'numeric'</dd><dt>mcaja_ahorro_dolares</dt><dd>'numeric'</dd><dt>cdescubierto_preacordado</dt><dd>'integer'</dd><dt>mcuentas_saldo</dt><dd>'numeric'</dd><dt>ctarjeta_debito</dt><dd>'integer'</dd><dt>ctarjeta_debito_transacciones</dt><dd>'integer'</dd><dt>mautoservicio</dt><dd>'numeric'</dd><dt>ctarjeta_visa</dt><dd>'integer'</dd><dt>ctarjeta_visa_transacciones</dt><dd>'integer'</dd><dt>mtarjeta_visa_consumo</dt><dd>'numeric'</dd><dt>ctarjeta_master</dt><dd>'integer'</dd><dt>ctarjeta_master_transacciones</dt><dd>'integer'</dd><dt>mtarjeta_master_consumo</dt><dd>'numeric'</dd><dt>cprestamos_personales</dt><dd>'integer'</dd><dt>mprestamos_personales</dt><dd>'numeric'</dd><dt>cprestamos_prendarios</dt><dd>'integer'</dd><dt>mprestamos_prendarios</dt><dd>'numeric'</dd><dt>cprestamos_hipotecarios</dt><dd>'integer'</dd><dt>mprestamos_hipotecarios</dt><dd>'numeric'</dd><dt>cplazo_fijo</dt><dd>'integer'</dd><dt>mplazo_fijo_dolares</dt><dd>'numeric'</dd><dt>mplazo_fijo_pesos</dt><dd>'numeric'</dd><dt>cinversion1</dt><dd>'integer'</dd><dt>minversion1_pesos</dt><dd>'numeric'</dd><dt>minversion1_dolares</dt><dd>'numeric'</dd><dt>cinversion2</dt><dd>'integer'</dd><dt>minversion2</dt><dd>'numeric'</dd><dt>cseguro_vida</dt><dd>'integer'</dd><dt>cseguro_auto</dt><dd>'integer'</dd><dt>cseguro_vivienda</dt><dd>'integer'</dd><dt>cseguro_accidentes_personales</dt><dd>'integer'</dd><dt>ccaja_seguridad</dt><dd>'integer'</dd><dt>cpayroll_trx</dt><dd>'integer'</dd><dt>mpayroll</dt><dd>'numeric'</dd><dt>mpayroll2</dt><dd>'numeric'</dd><dt>cpayroll2_trx</dt><dd>'integer'</dd><dt>ccuenta_debitos_automaticos</dt><dd>'integer'</dd><dt>mcuenta_debitos_automaticos</dt><dd>'numeric'</dd><dt>ctarjeta_visa_debitos_automaticos</dt><dd>'integer'</dd><dt>mttarjeta_visa_debitos_automaticos</dt><dd>'numeric'</dd><dt>ctarjeta_master_debitos_automaticos</dt><dd>'integer'</dd><dt>mttarjeta_master_debitos_automaticos</dt><dd>'numeric'</dd><dt>cpagodeservicios</dt><dd>'integer'</dd><dt>mpagodeservicios</dt><dd>'numeric'</dd><dt>cpagomiscuentas</dt><dd>'integer'</dd><dt>mpagomiscuentas</dt><dd>'numeric'</dd><dt>ccajeros_propios_descuentos</dt><dd>'integer'</dd><dt>mcajeros_propios_descuentos</dt><dd>'numeric'</dd><dt>ctarjeta_visa_descuentos</dt><dd>'integer'</dd><dt>mtarjeta_visa_descuentos</dt><dd>'numeric'</dd><dt>ctarjeta_master_descuentos</dt><dd>'integer'</dd><dt>mtarjeta_master_descuentos</dt><dd>'numeric'</dd><dt>ccomisiones_mantenimiento</dt><dd>'integer'</dd><dt>mcomisiones_mantenimiento</dt><dd>'numeric'</dd><dt>ccomisiones_otras</dt><dd>'integer'</dd><dt>mcomisiones_otras</dt><dd>'numeric'</dd><dt>cforex</dt><dd>'integer'</dd><dt>cforex_buy</dt><dd>'integer'</dd><dt>mforex_buy</dt><dd>'numeric'</dd><dt>cforex_sell</dt><dd>'integer'</dd><dt>mforex_sell</dt><dd>'numeric'</dd><dt>ctransferencias_recibidas</dt><dd>'integer'</dd><dt>mtransferencias_recibidas</dt><dd>'numeric'</dd><dt>ctransferencias_emitidas</dt><dd>'integer'</dd><dt>mtransferencias_emitidas</dt><dd>'numeric'</dd><dt>cextraccion_autoservicio</dt><dd>'integer'</dd><dt>mextraccion_autoservicio</dt><dd>'numeric'</dd><dt>ccheques_depositados</dt><dd>'integer'</dd><dt>mcheques_depositados</dt><dd>'numeric'</dd><dt>ccheques_emitidos</dt><dd>'integer'</dd><dt>mcheques_emitidos</dt><dd>'numeric'</dd><dt>ccheques_depositados_rechazados</dt><dd>'integer'</dd><dt>mcheques_depositados_rechazados</dt><dd>'numeric'</dd><dt>ccheques_emitidos_rechazados</dt><dd>'integer'</dd><dt>mcheques_emitidos_rechazados</dt><dd>'numeric'</dd><dt>tcallcenter</dt><dd>'integer'</dd><dt>ccallcenter_transacciones</dt><dd>'integer'</dd><dt>thomebanking</dt><dd>'integer'</dd><dt>chomebanking_transacciones</dt><dd>'integer'</dd><dt>ccajas_transacciones</dt><dd>'integer'</dd><dt>ccajas_consultas</dt><dd>'integer'</dd><dt>ccajas_depositos</dt><dd>'integer'</dd><dt>ccajas_extracciones</dt><dd>'integer'</dd><dt>ccajas_otras</dt><dd>'integer'</dd><dt>catm_trx</dt><dd>'integer'</dd><dt>matm</dt><dd>'numeric'</dd><dt>catm_trx_other</dt><dd>'integer'</dd><dt>matm_other</dt><dd>'numeric'</dd><dt>ctrx_quarter</dt><dd>'integer'</dd><dt>tmobile_app</dt><dd>'integer'</dd><dt>cmobile_app_trx</dt><dd>'integer'</dd><dt>Master_delinquency</dt><dd>'integer'</dd><dt>Master_status</dt><dd>'integer'</dd><dt>Master_mfinanciacion_limite</dt><dd>'numeric'</dd><dt>Master_Fvencimiento</dt><dd>'integer'</dd><dt>Master_Finiciomora</dt><dd>'integer'</dd><dt>Master_msaldototal</dt><dd>'numeric'</dd><dt>Master_msaldopesos</dt><dd>'numeric'</dd><dt>Master_msaldodolares</dt><dd>'numeric'</dd><dt>Master_mconsumospesos</dt><dd>'numeric'</dd><dt>Master_mconsumosdolares</dt><dd>'numeric'</dd><dt>Master_mlimitecompra</dt><dd>'numeric'</dd><dt>Master_madelantopesos</dt><dd>'numeric'</dd><dt>Master_madelantodolares</dt><dd>'numeric'</dd><dt>Master_fultimo_cierre</dt><dd>'integer'</dd><dt>Master_mpagado</dt><dd>'numeric'</dd><dt>Master_mpagospesos</dt><dd>'numeric'</dd><dt>Master_mpagosdolares</dt><dd>'numeric'</dd><dt>Master_fechaalta</dt><dd>'integer'</dd><dt>Master_mconsumototal</dt><dd>'numeric'</dd><dt>Master_cconsumos</dt><dd>'integer'</dd><dt>Master_cadelantosefectivo</dt><dd>'integer'</dd><dt>Master_mpagominimo</dt><dd>'numeric'</dd><dt>Visa_delinquency</dt><dd>'integer'</dd><dt>Visa_status</dt><dd>'integer'</dd><dt>Visa_mfinanciacion_limite</dt><dd>'numeric'</dd><dt>Visa_Fvencimiento</dt><dd>'integer'</dd><dt>Visa_Finiciomora</dt><dd>'integer'</dd><dt>Visa_msaldototal</dt><dd>'numeric'</dd><dt>Visa_msaldopesos</dt><dd>'numeric'</dd><dt>Visa_msaldodolares</dt><dd>'numeric'</dd><dt>Visa_mconsumospesos</dt><dd>'numeric'</dd><dt>Visa_mconsumosdolares</dt><dd>'numeric'</dd><dt>Visa_mlimitecompra</dt><dd>'numeric'</dd><dt>Visa_madelantopesos</dt><dd>'numeric'</dd><dt>Visa_madelantodolares</dt><dd>'numeric'</dd><dt>Visa_fultimo_cierre</dt><dd>'integer'</dd><dt>Visa_mpagado</dt><dd>'numeric'</dd><dt>Visa_mpagospesos</dt><dd>'numeric'</dd><dt>Visa_mpagosdolares</dt><dd>'numeric'</dd><dt>Visa_fechaalta</dt><dd>'integer'</dd><dt>Visa_mconsumototal</dt><dd>'numeric'</dd><dt>Visa_cconsumos</dt><dd>'integer'</dd><dt>Visa_cadelantosefectivo</dt><dd>'integer'</dd><dt>Visa_mpagominimo</dt><dd>'numeric'</dd><dt>clase_ternaria</dt><dd>'character'</dd></dl>\n"
      ],
      "text/latex": [
       "\\begin{description*}\n",
       "\\item[numero\\textbackslash{}\\_de\\textbackslash{}\\_cliente] 'integer'\n",
       "\\item[foto\\textbackslash{}\\_mes] 'integer'\n",
       "\\item[active\\textbackslash{}\\_quarter] 'integer'\n",
       "\\item[cliente\\textbackslash{}\\_vip] 'integer'\n",
       "\\item[internet] 'integer'\n",
       "\\item[cliente\\textbackslash{}\\_edad] 'integer'\n",
       "\\item[cliente\\textbackslash{}\\_antiguedad] 'integer'\n",
       "\\item[mrentabilidad] 'numeric'\n",
       "\\item[mrentabilidad\\textbackslash{}\\_annual] 'numeric'\n",
       "\\item[mcomisiones] 'numeric'\n",
       "\\item[mactivos\\textbackslash{}\\_margen] 'numeric'\n",
       "\\item[mpasivos\\textbackslash{}\\_margen] 'numeric'\n",
       "\\item[cproductos] 'integer'\n",
       "\\item[tcuentas] 'integer'\n",
       "\\item[ccuenta\\textbackslash{}\\_corriente] 'integer'\n",
       "\\item[mcuenta\\textbackslash{}\\_corriente\\textbackslash{}\\_adicional] 'numeric'\n",
       "\\item[mcuenta\\textbackslash{}\\_corriente] 'numeric'\n",
       "\\item[ccaja\\textbackslash{}\\_ahorro] 'integer'\n",
       "\\item[mcaja\\textbackslash{}\\_ahorro] 'numeric'\n",
       "\\item[mcaja\\textbackslash{}\\_ahorro\\textbackslash{}\\_adicional] 'numeric'\n",
       "\\item[mcaja\\textbackslash{}\\_ahorro\\textbackslash{}\\_dolares] 'numeric'\n",
       "\\item[cdescubierto\\textbackslash{}\\_preacordado] 'integer'\n",
       "\\item[mcuentas\\textbackslash{}\\_saldo] 'numeric'\n",
       "\\item[ctarjeta\\textbackslash{}\\_debito] 'integer'\n",
       "\\item[ctarjeta\\textbackslash{}\\_debito\\textbackslash{}\\_transacciones] 'integer'\n",
       "\\item[mautoservicio] 'numeric'\n",
       "\\item[ctarjeta\\textbackslash{}\\_visa] 'integer'\n",
       "\\item[ctarjeta\\textbackslash{}\\_visa\\textbackslash{}\\_transacciones] 'integer'\n",
       "\\item[mtarjeta\\textbackslash{}\\_visa\\textbackslash{}\\_consumo] 'numeric'\n",
       "\\item[ctarjeta\\textbackslash{}\\_master] 'integer'\n",
       "\\item[ctarjeta\\textbackslash{}\\_master\\textbackslash{}\\_transacciones] 'integer'\n",
       "\\item[mtarjeta\\textbackslash{}\\_master\\textbackslash{}\\_consumo] 'numeric'\n",
       "\\item[cprestamos\\textbackslash{}\\_personales] 'integer'\n",
       "\\item[mprestamos\\textbackslash{}\\_personales] 'numeric'\n",
       "\\item[cprestamos\\textbackslash{}\\_prendarios] 'integer'\n",
       "\\item[mprestamos\\textbackslash{}\\_prendarios] 'numeric'\n",
       "\\item[cprestamos\\textbackslash{}\\_hipotecarios] 'integer'\n",
       "\\item[mprestamos\\textbackslash{}\\_hipotecarios] 'numeric'\n",
       "\\item[cplazo\\textbackslash{}\\_fijo] 'integer'\n",
       "\\item[mplazo\\textbackslash{}\\_fijo\\textbackslash{}\\_dolares] 'numeric'\n",
       "\\item[mplazo\\textbackslash{}\\_fijo\\textbackslash{}\\_pesos] 'numeric'\n",
       "\\item[cinversion1] 'integer'\n",
       "\\item[minversion1\\textbackslash{}\\_pesos] 'numeric'\n",
       "\\item[minversion1\\textbackslash{}\\_dolares] 'numeric'\n",
       "\\item[cinversion2] 'integer'\n",
       "\\item[minversion2] 'numeric'\n",
       "\\item[cseguro\\textbackslash{}\\_vida] 'integer'\n",
       "\\item[cseguro\\textbackslash{}\\_auto] 'integer'\n",
       "\\item[cseguro\\textbackslash{}\\_vivienda] 'integer'\n",
       "\\item[cseguro\\textbackslash{}\\_accidentes\\textbackslash{}\\_personales] 'integer'\n",
       "\\item[ccaja\\textbackslash{}\\_seguridad] 'integer'\n",
       "\\item[cpayroll\\textbackslash{}\\_trx] 'integer'\n",
       "\\item[mpayroll] 'numeric'\n",
       "\\item[mpayroll2] 'numeric'\n",
       "\\item[cpayroll2\\textbackslash{}\\_trx] 'integer'\n",
       "\\item[ccuenta\\textbackslash{}\\_debitos\\textbackslash{}\\_automaticos] 'integer'\n",
       "\\item[mcuenta\\textbackslash{}\\_debitos\\textbackslash{}\\_automaticos] 'numeric'\n",
       "\\item[ctarjeta\\textbackslash{}\\_visa\\textbackslash{}\\_debitos\\textbackslash{}\\_automaticos] 'integer'\n",
       "\\item[mttarjeta\\textbackslash{}\\_visa\\textbackslash{}\\_debitos\\textbackslash{}\\_automaticos] 'numeric'\n",
       "\\item[ctarjeta\\textbackslash{}\\_master\\textbackslash{}\\_debitos\\textbackslash{}\\_automaticos] 'integer'\n",
       "\\item[mttarjeta\\textbackslash{}\\_master\\textbackslash{}\\_debitos\\textbackslash{}\\_automaticos] 'numeric'\n",
       "\\item[cpagodeservicios] 'integer'\n",
       "\\item[mpagodeservicios] 'numeric'\n",
       "\\item[cpagomiscuentas] 'integer'\n",
       "\\item[mpagomiscuentas] 'numeric'\n",
       "\\item[ccajeros\\textbackslash{}\\_propios\\textbackslash{}\\_descuentos] 'integer'\n",
       "\\item[mcajeros\\textbackslash{}\\_propios\\textbackslash{}\\_descuentos] 'numeric'\n",
       "\\item[ctarjeta\\textbackslash{}\\_visa\\textbackslash{}\\_descuentos] 'integer'\n",
       "\\item[mtarjeta\\textbackslash{}\\_visa\\textbackslash{}\\_descuentos] 'numeric'\n",
       "\\item[ctarjeta\\textbackslash{}\\_master\\textbackslash{}\\_descuentos] 'integer'\n",
       "\\item[mtarjeta\\textbackslash{}\\_master\\textbackslash{}\\_descuentos] 'numeric'\n",
       "\\item[ccomisiones\\textbackslash{}\\_mantenimiento] 'integer'\n",
       "\\item[mcomisiones\\textbackslash{}\\_mantenimiento] 'numeric'\n",
       "\\item[ccomisiones\\textbackslash{}\\_otras] 'integer'\n",
       "\\item[mcomisiones\\textbackslash{}\\_otras] 'numeric'\n",
       "\\item[cforex] 'integer'\n",
       "\\item[cforex\\textbackslash{}\\_buy] 'integer'\n",
       "\\item[mforex\\textbackslash{}\\_buy] 'numeric'\n",
       "\\item[cforex\\textbackslash{}\\_sell] 'integer'\n",
       "\\item[mforex\\textbackslash{}\\_sell] 'numeric'\n",
       "\\item[ctransferencias\\textbackslash{}\\_recibidas] 'integer'\n",
       "\\item[mtransferencias\\textbackslash{}\\_recibidas] 'numeric'\n",
       "\\item[ctransferencias\\textbackslash{}\\_emitidas] 'integer'\n",
       "\\item[mtransferencias\\textbackslash{}\\_emitidas] 'numeric'\n",
       "\\item[cextraccion\\textbackslash{}\\_autoservicio] 'integer'\n",
       "\\item[mextraccion\\textbackslash{}\\_autoservicio] 'numeric'\n",
       "\\item[ccheques\\textbackslash{}\\_depositados] 'integer'\n",
       "\\item[mcheques\\textbackslash{}\\_depositados] 'numeric'\n",
       "\\item[ccheques\\textbackslash{}\\_emitidos] 'integer'\n",
       "\\item[mcheques\\textbackslash{}\\_emitidos] 'numeric'\n",
       "\\item[ccheques\\textbackslash{}\\_depositados\\textbackslash{}\\_rechazados] 'integer'\n",
       "\\item[mcheques\\textbackslash{}\\_depositados\\textbackslash{}\\_rechazados] 'numeric'\n",
       "\\item[ccheques\\textbackslash{}\\_emitidos\\textbackslash{}\\_rechazados] 'integer'\n",
       "\\item[mcheques\\textbackslash{}\\_emitidos\\textbackslash{}\\_rechazados] 'numeric'\n",
       "\\item[tcallcenter] 'integer'\n",
       "\\item[ccallcenter\\textbackslash{}\\_transacciones] 'integer'\n",
       "\\item[thomebanking] 'integer'\n",
       "\\item[chomebanking\\textbackslash{}\\_transacciones] 'integer'\n",
       "\\item[ccajas\\textbackslash{}\\_transacciones] 'integer'\n",
       "\\item[ccajas\\textbackslash{}\\_consultas] 'integer'\n",
       "\\item[ccajas\\textbackslash{}\\_depositos] 'integer'\n",
       "\\item[ccajas\\textbackslash{}\\_extracciones] 'integer'\n",
       "\\item[ccajas\\textbackslash{}\\_otras] 'integer'\n",
       "\\item[catm\\textbackslash{}\\_trx] 'integer'\n",
       "\\item[matm] 'numeric'\n",
       "\\item[catm\\textbackslash{}\\_trx\\textbackslash{}\\_other] 'integer'\n",
       "\\item[matm\\textbackslash{}\\_other] 'numeric'\n",
       "\\item[ctrx\\textbackslash{}\\_quarter] 'integer'\n",
       "\\item[tmobile\\textbackslash{}\\_app] 'integer'\n",
       "\\item[cmobile\\textbackslash{}\\_app\\textbackslash{}\\_trx] 'integer'\n",
       "\\item[Master\\textbackslash{}\\_delinquency] 'integer'\n",
       "\\item[Master\\textbackslash{}\\_status] 'integer'\n",
       "\\item[Master\\textbackslash{}\\_mfinanciacion\\textbackslash{}\\_limite] 'numeric'\n",
       "\\item[Master\\textbackslash{}\\_Fvencimiento] 'integer'\n",
       "\\item[Master\\textbackslash{}\\_Finiciomora] 'integer'\n",
       "\\item[Master\\textbackslash{}\\_msaldototal] 'numeric'\n",
       "\\item[Master\\textbackslash{}\\_msaldopesos] 'numeric'\n",
       "\\item[Master\\textbackslash{}\\_msaldodolares] 'numeric'\n",
       "\\item[Master\\textbackslash{}\\_mconsumospesos] 'numeric'\n",
       "\\item[Master\\textbackslash{}\\_mconsumosdolares] 'numeric'\n",
       "\\item[Master\\textbackslash{}\\_mlimitecompra] 'numeric'\n",
       "\\item[Master\\textbackslash{}\\_madelantopesos] 'numeric'\n",
       "\\item[Master\\textbackslash{}\\_madelantodolares] 'numeric'\n",
       "\\item[Master\\textbackslash{}\\_fultimo\\textbackslash{}\\_cierre] 'integer'\n",
       "\\item[Master\\textbackslash{}\\_mpagado] 'numeric'\n",
       "\\item[Master\\textbackslash{}\\_mpagospesos] 'numeric'\n",
       "\\item[Master\\textbackslash{}\\_mpagosdolares] 'numeric'\n",
       "\\item[Master\\textbackslash{}\\_fechaalta] 'integer'\n",
       "\\item[Master\\textbackslash{}\\_mconsumototal] 'numeric'\n",
       "\\item[Master\\textbackslash{}\\_cconsumos] 'integer'\n",
       "\\item[Master\\textbackslash{}\\_cadelantosefectivo] 'integer'\n",
       "\\item[Master\\textbackslash{}\\_mpagominimo] 'numeric'\n",
       "\\item[Visa\\textbackslash{}\\_delinquency] 'integer'\n",
       "\\item[Visa\\textbackslash{}\\_status] 'integer'\n",
       "\\item[Visa\\textbackslash{}\\_mfinanciacion\\textbackslash{}\\_limite] 'numeric'\n",
       "\\item[Visa\\textbackslash{}\\_Fvencimiento] 'integer'\n",
       "\\item[Visa\\textbackslash{}\\_Finiciomora] 'integer'\n",
       "\\item[Visa\\textbackslash{}\\_msaldototal] 'numeric'\n",
       "\\item[Visa\\textbackslash{}\\_msaldopesos] 'numeric'\n",
       "\\item[Visa\\textbackslash{}\\_msaldodolares] 'numeric'\n",
       "\\item[Visa\\textbackslash{}\\_mconsumospesos] 'numeric'\n",
       "\\item[Visa\\textbackslash{}\\_mconsumosdolares] 'numeric'\n",
       "\\item[Visa\\textbackslash{}\\_mlimitecompra] 'numeric'\n",
       "\\item[Visa\\textbackslash{}\\_madelantopesos] 'numeric'\n",
       "\\item[Visa\\textbackslash{}\\_madelantodolares] 'numeric'\n",
       "\\item[Visa\\textbackslash{}\\_fultimo\\textbackslash{}\\_cierre] 'integer'\n",
       "\\item[Visa\\textbackslash{}\\_mpagado] 'numeric'\n",
       "\\item[Visa\\textbackslash{}\\_mpagospesos] 'numeric'\n",
       "\\item[Visa\\textbackslash{}\\_mpagosdolares] 'numeric'\n",
       "\\item[Visa\\textbackslash{}\\_fechaalta] 'integer'\n",
       "\\item[Visa\\textbackslash{}\\_mconsumototal] 'numeric'\n",
       "\\item[Visa\\textbackslash{}\\_cconsumos] 'integer'\n",
       "\\item[Visa\\textbackslash{}\\_cadelantosefectivo] 'integer'\n",
       "\\item[Visa\\textbackslash{}\\_mpagominimo] 'numeric'\n",
       "\\item[clase\\textbackslash{}\\_ternaria] 'character'\n",
       "\\end{description*}\n"
      ],
      "text/markdown": [
       "numero_de_cliente\n",
       ":   'integer'foto_mes\n",
       ":   'integer'active_quarter\n",
       ":   'integer'cliente_vip\n",
       ":   'integer'internet\n",
       ":   'integer'cliente_edad\n",
       ":   'integer'cliente_antiguedad\n",
       ":   'integer'mrentabilidad\n",
       ":   'numeric'mrentabilidad_annual\n",
       ":   'numeric'mcomisiones\n",
       ":   'numeric'mactivos_margen\n",
       ":   'numeric'mpasivos_margen\n",
       ":   'numeric'cproductos\n",
       ":   'integer'tcuentas\n",
       ":   'integer'ccuenta_corriente\n",
       ":   'integer'mcuenta_corriente_adicional\n",
       ":   'numeric'mcuenta_corriente\n",
       ":   'numeric'ccaja_ahorro\n",
       ":   'integer'mcaja_ahorro\n",
       ":   'numeric'mcaja_ahorro_adicional\n",
       ":   'numeric'mcaja_ahorro_dolares\n",
       ":   'numeric'cdescubierto_preacordado\n",
       ":   'integer'mcuentas_saldo\n",
       ":   'numeric'ctarjeta_debito\n",
       ":   'integer'ctarjeta_debito_transacciones\n",
       ":   'integer'mautoservicio\n",
       ":   'numeric'ctarjeta_visa\n",
       ":   'integer'ctarjeta_visa_transacciones\n",
       ":   'integer'mtarjeta_visa_consumo\n",
       ":   'numeric'ctarjeta_master\n",
       ":   'integer'ctarjeta_master_transacciones\n",
       ":   'integer'mtarjeta_master_consumo\n",
       ":   'numeric'cprestamos_personales\n",
       ":   'integer'mprestamos_personales\n",
       ":   'numeric'cprestamos_prendarios\n",
       ":   'integer'mprestamos_prendarios\n",
       ":   'numeric'cprestamos_hipotecarios\n",
       ":   'integer'mprestamos_hipotecarios\n",
       ":   'numeric'cplazo_fijo\n",
       ":   'integer'mplazo_fijo_dolares\n",
       ":   'numeric'mplazo_fijo_pesos\n",
       ":   'numeric'cinversion1\n",
       ":   'integer'minversion1_pesos\n",
       ":   'numeric'minversion1_dolares\n",
       ":   'numeric'cinversion2\n",
       ":   'integer'minversion2\n",
       ":   'numeric'cseguro_vida\n",
       ":   'integer'cseguro_auto\n",
       ":   'integer'cseguro_vivienda\n",
       ":   'integer'cseguro_accidentes_personales\n",
       ":   'integer'ccaja_seguridad\n",
       ":   'integer'cpayroll_trx\n",
       ":   'integer'mpayroll\n",
       ":   'numeric'mpayroll2\n",
       ":   'numeric'cpayroll2_trx\n",
       ":   'integer'ccuenta_debitos_automaticos\n",
       ":   'integer'mcuenta_debitos_automaticos\n",
       ":   'numeric'ctarjeta_visa_debitos_automaticos\n",
       ":   'integer'mttarjeta_visa_debitos_automaticos\n",
       ":   'numeric'ctarjeta_master_debitos_automaticos\n",
       ":   'integer'mttarjeta_master_debitos_automaticos\n",
       ":   'numeric'cpagodeservicios\n",
       ":   'integer'mpagodeservicios\n",
       ":   'numeric'cpagomiscuentas\n",
       ":   'integer'mpagomiscuentas\n",
       ":   'numeric'ccajeros_propios_descuentos\n",
       ":   'integer'mcajeros_propios_descuentos\n",
       ":   'numeric'ctarjeta_visa_descuentos\n",
       ":   'integer'mtarjeta_visa_descuentos\n",
       ":   'numeric'ctarjeta_master_descuentos\n",
       ":   'integer'mtarjeta_master_descuentos\n",
       ":   'numeric'ccomisiones_mantenimiento\n",
       ":   'integer'mcomisiones_mantenimiento\n",
       ":   'numeric'ccomisiones_otras\n",
       ":   'integer'mcomisiones_otras\n",
       ":   'numeric'cforex\n",
       ":   'integer'cforex_buy\n",
       ":   'integer'mforex_buy\n",
       ":   'numeric'cforex_sell\n",
       ":   'integer'mforex_sell\n",
       ":   'numeric'ctransferencias_recibidas\n",
       ":   'integer'mtransferencias_recibidas\n",
       ":   'numeric'ctransferencias_emitidas\n",
       ":   'integer'mtransferencias_emitidas\n",
       ":   'numeric'cextraccion_autoservicio\n",
       ":   'integer'mextraccion_autoservicio\n",
       ":   'numeric'ccheques_depositados\n",
       ":   'integer'mcheques_depositados\n",
       ":   'numeric'ccheques_emitidos\n",
       ":   'integer'mcheques_emitidos\n",
       ":   'numeric'ccheques_depositados_rechazados\n",
       ":   'integer'mcheques_depositados_rechazados\n",
       ":   'numeric'ccheques_emitidos_rechazados\n",
       ":   'integer'mcheques_emitidos_rechazados\n",
       ":   'numeric'tcallcenter\n",
       ":   'integer'ccallcenter_transacciones\n",
       ":   'integer'thomebanking\n",
       ":   'integer'chomebanking_transacciones\n",
       ":   'integer'ccajas_transacciones\n",
       ":   'integer'ccajas_consultas\n",
       ":   'integer'ccajas_depositos\n",
       ":   'integer'ccajas_extracciones\n",
       ":   'integer'ccajas_otras\n",
       ":   'integer'catm_trx\n",
       ":   'integer'matm\n",
       ":   'numeric'catm_trx_other\n",
       ":   'integer'matm_other\n",
       ":   'numeric'ctrx_quarter\n",
       ":   'integer'tmobile_app\n",
       ":   'integer'cmobile_app_trx\n",
       ":   'integer'Master_delinquency\n",
       ":   'integer'Master_status\n",
       ":   'integer'Master_mfinanciacion_limite\n",
       ":   'numeric'Master_Fvencimiento\n",
       ":   'integer'Master_Finiciomora\n",
       ":   'integer'Master_msaldototal\n",
       ":   'numeric'Master_msaldopesos\n",
       ":   'numeric'Master_msaldodolares\n",
       ":   'numeric'Master_mconsumospesos\n",
       ":   'numeric'Master_mconsumosdolares\n",
       ":   'numeric'Master_mlimitecompra\n",
       ":   'numeric'Master_madelantopesos\n",
       ":   'numeric'Master_madelantodolares\n",
       ":   'numeric'Master_fultimo_cierre\n",
       ":   'integer'Master_mpagado\n",
       ":   'numeric'Master_mpagospesos\n",
       ":   'numeric'Master_mpagosdolares\n",
       ":   'numeric'Master_fechaalta\n",
       ":   'integer'Master_mconsumototal\n",
       ":   'numeric'Master_cconsumos\n",
       ":   'integer'Master_cadelantosefectivo\n",
       ":   'integer'Master_mpagominimo\n",
       ":   'numeric'Visa_delinquency\n",
       ":   'integer'Visa_status\n",
       ":   'integer'Visa_mfinanciacion_limite\n",
       ":   'numeric'Visa_Fvencimiento\n",
       ":   'integer'Visa_Finiciomora\n",
       ":   'integer'Visa_msaldototal\n",
       ":   'numeric'Visa_msaldopesos\n",
       ":   'numeric'Visa_msaldodolares\n",
       ":   'numeric'Visa_mconsumospesos\n",
       ":   'numeric'Visa_mconsumosdolares\n",
       ":   'numeric'Visa_mlimitecompra\n",
       ":   'numeric'Visa_madelantopesos\n",
       ":   'numeric'Visa_madelantodolares\n",
       ":   'numeric'Visa_fultimo_cierre\n",
       ":   'integer'Visa_mpagado\n",
       ":   'numeric'Visa_mpagospesos\n",
       ":   'numeric'Visa_mpagosdolares\n",
       ":   'numeric'Visa_fechaalta\n",
       ":   'integer'Visa_mconsumototal\n",
       ":   'numeric'Visa_cconsumos\n",
       ":   'integer'Visa_cadelantosefectivo\n",
       ":   'integer'Visa_mpagominimo\n",
       ":   'numeric'clase_ternaria\n",
       ":   'character'\n",
       "\n"
      ],
      "text/plain": [
       "                   numero_de_cliente                             foto_mes \n",
       "                           \"integer\"                            \"integer\" \n",
       "                      active_quarter                          cliente_vip \n",
       "                           \"integer\"                            \"integer\" \n",
       "                            internet                         cliente_edad \n",
       "                           \"integer\"                            \"integer\" \n",
       "                  cliente_antiguedad                        mrentabilidad \n",
       "                           \"integer\"                            \"numeric\" \n",
       "                mrentabilidad_annual                          mcomisiones \n",
       "                           \"numeric\"                            \"numeric\" \n",
       "                     mactivos_margen                      mpasivos_margen \n",
       "                           \"numeric\"                            \"numeric\" \n",
       "                          cproductos                             tcuentas \n",
       "                           \"integer\"                            \"integer\" \n",
       "                   ccuenta_corriente          mcuenta_corriente_adicional \n",
       "                           \"integer\"                            \"numeric\" \n",
       "                   mcuenta_corriente                         ccaja_ahorro \n",
       "                           \"numeric\"                            \"integer\" \n",
       "                        mcaja_ahorro               mcaja_ahorro_adicional \n",
       "                           \"numeric\"                            \"numeric\" \n",
       "                mcaja_ahorro_dolares             cdescubierto_preacordado \n",
       "                           \"numeric\"                            \"integer\" \n",
       "                      mcuentas_saldo                      ctarjeta_debito \n",
       "                           \"numeric\"                            \"integer\" \n",
       "       ctarjeta_debito_transacciones                        mautoservicio \n",
       "                           \"integer\"                            \"numeric\" \n",
       "                       ctarjeta_visa          ctarjeta_visa_transacciones \n",
       "                           \"integer\"                            \"integer\" \n",
       "               mtarjeta_visa_consumo                      ctarjeta_master \n",
       "                           \"numeric\"                            \"integer\" \n",
       "       ctarjeta_master_transacciones              mtarjeta_master_consumo \n",
       "                           \"integer\"                            \"numeric\" \n",
       "               cprestamos_personales                mprestamos_personales \n",
       "                           \"integer\"                            \"numeric\" \n",
       "               cprestamos_prendarios                mprestamos_prendarios \n",
       "                           \"integer\"                            \"numeric\" \n",
       "             cprestamos_hipotecarios              mprestamos_hipotecarios \n",
       "                           \"integer\"                            \"numeric\" \n",
       "                         cplazo_fijo                  mplazo_fijo_dolares \n",
       "                           \"integer\"                            \"numeric\" \n",
       "                   mplazo_fijo_pesos                          cinversion1 \n",
       "                           \"numeric\"                            \"integer\" \n",
       "                   minversion1_pesos                  minversion1_dolares \n",
       "                           \"numeric\"                            \"numeric\" \n",
       "                         cinversion2                          minversion2 \n",
       "                           \"integer\"                            \"numeric\" \n",
       "                        cseguro_vida                         cseguro_auto \n",
       "                           \"integer\"                            \"integer\" \n",
       "                    cseguro_vivienda        cseguro_accidentes_personales \n",
       "                           \"integer\"                            \"integer\" \n",
       "                     ccaja_seguridad                         cpayroll_trx \n",
       "                           \"integer\"                            \"integer\" \n",
       "                            mpayroll                            mpayroll2 \n",
       "                           \"numeric\"                            \"numeric\" \n",
       "                       cpayroll2_trx          ccuenta_debitos_automaticos \n",
       "                           \"integer\"                            \"integer\" \n",
       "         mcuenta_debitos_automaticos    ctarjeta_visa_debitos_automaticos \n",
       "                           \"numeric\"                            \"integer\" \n",
       "  mttarjeta_visa_debitos_automaticos  ctarjeta_master_debitos_automaticos \n",
       "                           \"numeric\"                            \"integer\" \n",
       "mttarjeta_master_debitos_automaticos                     cpagodeservicios \n",
       "                           \"numeric\"                            \"integer\" \n",
       "                    mpagodeservicios                      cpagomiscuentas \n",
       "                           \"numeric\"                            \"integer\" \n",
       "                     mpagomiscuentas          ccajeros_propios_descuentos \n",
       "                           \"numeric\"                            \"integer\" \n",
       "         mcajeros_propios_descuentos             ctarjeta_visa_descuentos \n",
       "                           \"numeric\"                            \"integer\" \n",
       "            mtarjeta_visa_descuentos           ctarjeta_master_descuentos \n",
       "                           \"numeric\"                            \"integer\" \n",
       "          mtarjeta_master_descuentos            ccomisiones_mantenimiento \n",
       "                           \"numeric\"                            \"integer\" \n",
       "           mcomisiones_mantenimiento                    ccomisiones_otras \n",
       "                           \"numeric\"                            \"integer\" \n",
       "                   mcomisiones_otras                               cforex \n",
       "                           \"numeric\"                            \"integer\" \n",
       "                          cforex_buy                           mforex_buy \n",
       "                           \"integer\"                            \"numeric\" \n",
       "                         cforex_sell                          mforex_sell \n",
       "                           \"integer\"                            \"numeric\" \n",
       "           ctransferencias_recibidas            mtransferencias_recibidas \n",
       "                           \"integer\"                            \"numeric\" \n",
       "            ctransferencias_emitidas             mtransferencias_emitidas \n",
       "                           \"integer\"                            \"numeric\" \n",
       "            cextraccion_autoservicio             mextraccion_autoservicio \n",
       "                           \"integer\"                            \"numeric\" \n",
       "                ccheques_depositados                 mcheques_depositados \n",
       "                           \"integer\"                            \"numeric\" \n",
       "                   ccheques_emitidos                    mcheques_emitidos \n",
       "                           \"integer\"                            \"numeric\" \n",
       "     ccheques_depositados_rechazados      mcheques_depositados_rechazados \n",
       "                           \"integer\"                            \"numeric\" \n",
       "        ccheques_emitidos_rechazados         mcheques_emitidos_rechazados \n",
       "                           \"integer\"                            \"numeric\" \n",
       "                         tcallcenter            ccallcenter_transacciones \n",
       "                           \"integer\"                            \"integer\" \n",
       "                        thomebanking           chomebanking_transacciones \n",
       "                           \"integer\"                            \"integer\" \n",
       "                ccajas_transacciones                     ccajas_consultas \n",
       "                           \"integer\"                            \"integer\" \n",
       "                    ccajas_depositos                  ccajas_extracciones \n",
       "                           \"integer\"                            \"integer\" \n",
       "                        ccajas_otras                             catm_trx \n",
       "                           \"integer\"                            \"integer\" \n",
       "                                matm                       catm_trx_other \n",
       "                           \"numeric\"                            \"integer\" \n",
       "                          matm_other                         ctrx_quarter \n",
       "                           \"numeric\"                            \"integer\" \n",
       "                         tmobile_app                      cmobile_app_trx \n",
       "                           \"integer\"                            \"integer\" \n",
       "                  Master_delinquency                        Master_status \n",
       "                           \"integer\"                            \"integer\" \n",
       "         Master_mfinanciacion_limite                  Master_Fvencimiento \n",
       "                           \"numeric\"                            \"integer\" \n",
       "                  Master_Finiciomora                   Master_msaldototal \n",
       "                           \"integer\"                            \"numeric\" \n",
       "                  Master_msaldopesos                 Master_msaldodolares \n",
       "                           \"numeric\"                            \"numeric\" \n",
       "               Master_mconsumospesos              Master_mconsumosdolares \n",
       "                           \"numeric\"                            \"numeric\" \n",
       "                Master_mlimitecompra                Master_madelantopesos \n",
       "                           \"numeric\"                            \"numeric\" \n",
       "             Master_madelantodolares                Master_fultimo_cierre \n",
       "                           \"numeric\"                            \"integer\" \n",
       "                      Master_mpagado                   Master_mpagospesos \n",
       "                           \"numeric\"                            \"numeric\" \n",
       "                Master_mpagosdolares                     Master_fechaalta \n",
       "                           \"numeric\"                            \"integer\" \n",
       "                Master_mconsumototal                     Master_cconsumos \n",
       "                           \"numeric\"                            \"integer\" \n",
       "           Master_cadelantosefectivo                   Master_mpagominimo \n",
       "                           \"integer\"                            \"numeric\" \n",
       "                    Visa_delinquency                          Visa_status \n",
       "                           \"integer\"                            \"integer\" \n",
       "           Visa_mfinanciacion_limite                    Visa_Fvencimiento \n",
       "                           \"numeric\"                            \"integer\" \n",
       "                    Visa_Finiciomora                     Visa_msaldototal \n",
       "                           \"integer\"                            \"numeric\" \n",
       "                    Visa_msaldopesos                   Visa_msaldodolares \n",
       "                           \"numeric\"                            \"numeric\" \n",
       "                 Visa_mconsumospesos                Visa_mconsumosdolares \n",
       "                           \"numeric\"                            \"numeric\" \n",
       "                  Visa_mlimitecompra                  Visa_madelantopesos \n",
       "                           \"numeric\"                            \"numeric\" \n",
       "               Visa_madelantodolares                  Visa_fultimo_cierre \n",
       "                           \"numeric\"                            \"integer\" \n",
       "                        Visa_mpagado                     Visa_mpagospesos \n",
       "                           \"numeric\"                            \"numeric\" \n",
       "                  Visa_mpagosdolares                       Visa_fechaalta \n",
       "                           \"numeric\"                            \"integer\" \n",
       "                  Visa_mconsumototal                       Visa_cconsumos \n",
       "                           \"numeric\"                            \"integer\" \n",
       "             Visa_cadelantosefectivo                     Visa_mpagominimo \n",
       "                           \"integer\"                            \"numeric\" \n",
       "                      clase_ternaria \n",
       "                         \"character\" "
      ]
     },
     "metadata": {},
     "output_type": "display_data"
    }
   ],
   "source": [
    "y <- lapply(dtrain, class)\n",
    "\n",
    "unlist(y, use.names = TRUE)"
   ]
  },
  {
   "cell_type": "markdown",
   "id": "10967187",
   "metadata": {},
   "source": [
    "## Valores faltantes"
   ]
  },
  {
   "cell_type": "code",
   "execution_count": 23,
   "id": "37010cbf",
   "metadata": {},
   "outputs": [
    {
     "data": {
      "text/html": [
       "<strong>png:</strong> 2"
      ],
      "text/latex": [
       "\\textbf{png:} 2"
      ],
      "text/markdown": [
       "**png:** 2"
      ],
      "text/plain": [
       "png \n",
       "  2 "
      ]
     },
     "metadata": {},
     "output_type": "display_data"
    }
   ],
   "source": [
    "pdf(\"missing_values.pdf\", width = 15, height = 15) \n",
    "plot_missing(\n",
    "  dtrain,\n",
    "  group = list(Good = 0.05, OK = 0.4, Bad = 0.8, Remove = 1),\n",
    "  group_color = list(Good = \"#1B9E77\", OK = \"#E6AB02\", Bad = \"#D95F02\", Remove =\n",
    "    \"#E41A1C\"),\n",
    "  missing_only = TRUE,\n",
    "  geom_label_args = list(),\n",
    "  title = NULL,\n",
    "  ggtheme = theme_gray(),\n",
    "  theme_config = list(legend.position = c(\"bottom\"))\n",
    ")\n",
    "dev.off()"
   ]
  },
  {
   "cell_type": "code",
   "execution_count": null,
   "id": "263ba092",
   "metadata": {},
   "outputs": [],
   "source": [
    "dfalt <- profile_missing(dtrain)\n",
    "dfalt <- dfalt[dfalt$num_missing != 0]\n",
    "dfalt %>% arrange(desc(num_missing))"
   ]
  },
  {
   "cell_type": "code",
   "execution_count": 171,
   "id": "db508aca-03b5-4dd4-8080-37f498873600",
   "metadata": {},
   "outputs": [
    {
     "data": {
      "text/html": [
       "<style>\n",
       ".dl-inline {width: auto; margin:0; padding: 0}\n",
       ".dl-inline>dt, .dl-inline>dd {float: none; width: auto; display: inline-block}\n",
       ".dl-inline>dt::after {content: \":\\0020\"; padding-right: .5ex}\n",
       ".dl-inline>dt:not(:first-of-type) {padding-left: .5ex}\n",
       "</style><dl class=dl-inline><dt>Master_Finiciomora</dt><dd>163858</dd><dt>Visa_Finiciomora</dt><dd>163595</dd><dt>Master_mconsumospesos</dt><dd>94804</dd><dt>Master_mconsumosdolares</dt><dd>94804</dd><dt>Master_madelantopesos</dt><dd>94804</dd><dt>Master_madelantodolares</dt><dd>94804</dd><dt>Master_mpagospesos</dt><dd>94804</dd><dt>Master_mpagosdolares</dt><dd>94804</dd><dt>Master_mconsumototal</dt><dd>94804</dd><dt>Master_cconsumos</dt><dd>94804</dd><dt>Master_cadelantosefectivo</dt><dd>94804</dd><dt>Visa_mconsumospesos</dt><dd>20333</dd><dt>Visa_mconsumosdolares</dt><dd>20333</dd><dt>Visa_madelantopesos</dt><dd>20333</dd><dt>Visa_madelantodolares</dt><dd>20333</dd><dt>Visa_mpagospesos</dt><dd>20333</dd><dt>Visa_mpagosdolares</dt><dd>20333</dd><dt>Visa_mconsumototal</dt><dd>20333</dd><dt>Visa_cconsumos</dt><dd>20333</dd><dt>Visa_cadelantosefectivo</dt><dd>20333</dd><dt>Master_fultimo_cierre</dt><dd>15781</dd><dt>Master_delinquency</dt><dd>15743</dd><dt>Master_status</dt><dd>15743</dd><dt>Master_mfinanciacion_limite</dt><dd>15743</dd><dt>Master_Fvencimiento</dt><dd>15743</dd><dt>Master_msaldototal</dt><dd>15743</dd><dt>Master_msaldopesos</dt><dd>15743</dd><dt>Master_msaldodolares</dt><dd>15743</dd><dt>Master_mlimitecompra</dt><dd>15743</dd><dt>Master_mpagado</dt><dd>15743</dd><dt>Master_fechaalta</dt><dd>15743</dd><dt>Master_mpagominimo</dt><dd>15743</dd><dt>Visa_fultimo_cierre</dt><dd>7285</dd><dt>Visa_delinquency</dt><dd>7253</dd><dt>Visa_status</dt><dd>7253</dd><dt>Visa_mfinanciacion_limite</dt><dd>7253</dd><dt>Visa_Fvencimiento</dt><dd>7253</dd><dt>Visa_msaldototal</dt><dd>7253</dd><dt>Visa_msaldopesos</dt><dd>7253</dd><dt>Visa_msaldodolares</dt><dd>7253</dd><dt>Visa_mlimitecompra</dt><dd>7253</dd><dt>Visa_mpagado</dt><dd>7253</dd><dt>Visa_fechaalta</dt><dd>7253</dd><dt>Visa_mpagominimo</dt><dd>7253</dd><dt>mtarjeta_master_descuentos</dt><dd>4386</dd><dt>mtarjeta_visa_descuentos</dt><dd>4381</dd><dt>active_quarter</dt><dd>0</dd><dt>cliente_vip</dt><dd>0</dd><dt>internet</dt><dd>0</dd><dt>cliente_edad</dt><dd>0</dd><dt>cliente_antiguedad</dt><dd>0</dd><dt>mrentabilidad</dt><dd>0</dd><dt>mrentabilidad_annual</dt><dd>0</dd><dt>mcomisiones</dt><dd>0</dd><dt>mactivos_margen</dt><dd>0</dd><dt>mpasivos_margen</dt><dd>0</dd><dt>cproductos</dt><dd>0</dd><dt>tcuentas</dt><dd>0</dd><dt>ccuenta_corriente</dt><dd>0</dd><dt>mcuenta_corriente_adicional</dt><dd>0</dd><dt>mcuenta_corriente</dt><dd>0</dd><dt>ccaja_ahorro</dt><dd>0</dd><dt>mcaja_ahorro</dt><dd>0</dd><dt>mcaja_ahorro_adicional</dt><dd>0</dd><dt>mcaja_ahorro_dolares</dt><dd>0</dd><dt>cdescubierto_preacordado</dt><dd>0</dd><dt>mcuentas_saldo</dt><dd>0</dd><dt>ctarjeta_debito</dt><dd>0</dd><dt>ctarjeta_debito_transacciones</dt><dd>0</dd><dt>mautoservicio</dt><dd>0</dd><dt>ctarjeta_visa</dt><dd>0</dd><dt>ctarjeta_visa_transacciones</dt><dd>0</dd><dt>mtarjeta_visa_consumo</dt><dd>0</dd><dt>ctarjeta_master</dt><dd>0</dd><dt>ctarjeta_master_transacciones</dt><dd>0</dd><dt>mtarjeta_master_consumo</dt><dd>0</dd><dt>cprestamos_personales</dt><dd>0</dd><dt>mprestamos_personales</dt><dd>0</dd><dt>cprestamos_prendarios</dt><dd>0</dd><dt>mprestamos_prendarios</dt><dd>0</dd><dt>cprestamos_hipotecarios</dt><dd>0</dd><dt>mprestamos_hipotecarios</dt><dd>0</dd><dt>cplazo_fijo</dt><dd>0</dd><dt>mplazo_fijo_dolares</dt><dd>0</dd><dt>mplazo_fijo_pesos</dt><dd>0</dd><dt>cinversion1</dt><dd>0</dd><dt>minversion1_pesos</dt><dd>0</dd><dt>minversion1_dolares</dt><dd>0</dd><dt>cinversion2</dt><dd>0</dd><dt>minversion2</dt><dd>0</dd><dt>cseguro_vida</dt><dd>0</dd><dt>cseguro_auto</dt><dd>0</dd><dt>cseguro_vivienda</dt><dd>0</dd><dt>cseguro_accidentes_personales</dt><dd>0</dd><dt>ccaja_seguridad</dt><dd>0</dd><dt>cpayroll_trx</dt><dd>0</dd><dt>mpayroll</dt><dd>0</dd><dt>mpayroll2</dt><dd>0</dd><dt>cpayroll2_trx</dt><dd>0</dd><dt>ccuenta_debitos_automaticos</dt><dd>0</dd><dt>mcuenta_debitos_automaticos</dt><dd>0</dd><dt>ctarjeta_visa_debitos_automaticos</dt><dd>0</dd><dt>mttarjeta_visa_debitos_automaticos</dt><dd>0</dd><dt>ctarjeta_master_debitos_automaticos</dt><dd>0</dd><dt>mttarjeta_master_debitos_automaticos</dt><dd>0</dd><dt>cpagodeservicios</dt><dd>0</dd><dt>mpagodeservicios</dt><dd>0</dd><dt>cpagomiscuentas</dt><dd>0</dd><dt>mpagomiscuentas</dt><dd>0</dd><dt>ccajeros_propios_descuentos</dt><dd>0</dd><dt>mcajeros_propios_descuentos</dt><dd>0</dd><dt>ctarjeta_visa_descuentos</dt><dd>0</dd><dt>ctarjeta_master_descuentos</dt><dd>0</dd><dt>ccomisiones_mantenimiento</dt><dd>0</dd><dt>mcomisiones_mantenimiento</dt><dd>0</dd><dt>ccomisiones_otras</dt><dd>0</dd><dt>mcomisiones_otras</dt><dd>0</dd><dt>cforex</dt><dd>0</dd><dt>cforex_buy</dt><dd>0</dd><dt>mforex_buy</dt><dd>0</dd><dt>cforex_sell</dt><dd>0</dd><dt>mforex_sell</dt><dd>0</dd><dt>ctransferencias_recibidas</dt><dd>0</dd><dt>mtransferencias_recibidas</dt><dd>0</dd><dt>ctransferencias_emitidas</dt><dd>0</dd><dt>mtransferencias_emitidas</dt><dd>0</dd><dt>cextraccion_autoservicio</dt><dd>0</dd><dt>mextraccion_autoservicio</dt><dd>0</dd><dt>ccheques_depositados</dt><dd>0</dd><dt>mcheques_depositados</dt><dd>0</dd><dt>ccheques_emitidos</dt><dd>0</dd><dt>mcheques_emitidos</dt><dd>0</dd><dt>ccheques_depositados_rechazados</dt><dd>0</dd><dt>mcheques_depositados_rechazados</dt><dd>0</dd><dt>ccheques_emitidos_rechazados</dt><dd>0</dd><dt>mcheques_emitidos_rechazados</dt><dd>0</dd><dt>tcallcenter</dt><dd>0</dd><dt>ccallcenter_transacciones</dt><dd>0</dd><dt>thomebanking</dt><dd>0</dd><dt>chomebanking_transacciones</dt><dd>0</dd><dt>ccajas_transacciones</dt><dd>0</dd><dt>ccajas_consultas</dt><dd>0</dd><dt>ccajas_depositos</dt><dd>0</dd><dt>ccajas_extracciones</dt><dd>0</dd><dt>ccajas_otras</dt><dd>0</dd><dt>catm_trx</dt><dd>0</dd><dt>matm</dt><dd>0</dd><dt>catm_trx_other</dt><dd>0</dd><dt>matm_other</dt><dd>0</dd><dt>ctrx_quarter</dt><dd>0</dd><dt>tmobile_app</dt><dd>0</dd><dt>cmobile_app_trx</dt><dd>0</dd></dl>\n"
      ],
      "text/latex": [
       "\\begin{description*}\n",
       "\\item[Master\\textbackslash{}\\_Finiciomora] 163858\n",
       "\\item[Visa\\textbackslash{}\\_Finiciomora] 163595\n",
       "\\item[Master\\textbackslash{}\\_mconsumospesos] 94804\n",
       "\\item[Master\\textbackslash{}\\_mconsumosdolares] 94804\n",
       "\\item[Master\\textbackslash{}\\_madelantopesos] 94804\n",
       "\\item[Master\\textbackslash{}\\_madelantodolares] 94804\n",
       "\\item[Master\\textbackslash{}\\_mpagospesos] 94804\n",
       "\\item[Master\\textbackslash{}\\_mpagosdolares] 94804\n",
       "\\item[Master\\textbackslash{}\\_mconsumototal] 94804\n",
       "\\item[Master\\textbackslash{}\\_cconsumos] 94804\n",
       "\\item[Master\\textbackslash{}\\_cadelantosefectivo] 94804\n",
       "\\item[Visa\\textbackslash{}\\_mconsumospesos] 20333\n",
       "\\item[Visa\\textbackslash{}\\_mconsumosdolares] 20333\n",
       "\\item[Visa\\textbackslash{}\\_madelantopesos] 20333\n",
       "\\item[Visa\\textbackslash{}\\_madelantodolares] 20333\n",
       "\\item[Visa\\textbackslash{}\\_mpagospesos] 20333\n",
       "\\item[Visa\\textbackslash{}\\_mpagosdolares] 20333\n",
       "\\item[Visa\\textbackslash{}\\_mconsumototal] 20333\n",
       "\\item[Visa\\textbackslash{}\\_cconsumos] 20333\n",
       "\\item[Visa\\textbackslash{}\\_cadelantosefectivo] 20333\n",
       "\\item[Master\\textbackslash{}\\_fultimo\\textbackslash{}\\_cierre] 15781\n",
       "\\item[Master\\textbackslash{}\\_delinquency] 15743\n",
       "\\item[Master\\textbackslash{}\\_status] 15743\n",
       "\\item[Master\\textbackslash{}\\_mfinanciacion\\textbackslash{}\\_limite] 15743\n",
       "\\item[Master\\textbackslash{}\\_Fvencimiento] 15743\n",
       "\\item[Master\\textbackslash{}\\_msaldototal] 15743\n",
       "\\item[Master\\textbackslash{}\\_msaldopesos] 15743\n",
       "\\item[Master\\textbackslash{}\\_msaldodolares] 15743\n",
       "\\item[Master\\textbackslash{}\\_mlimitecompra] 15743\n",
       "\\item[Master\\textbackslash{}\\_mpagado] 15743\n",
       "\\item[Master\\textbackslash{}\\_fechaalta] 15743\n",
       "\\item[Master\\textbackslash{}\\_mpagominimo] 15743\n",
       "\\item[Visa\\textbackslash{}\\_fultimo\\textbackslash{}\\_cierre] 7285\n",
       "\\item[Visa\\textbackslash{}\\_delinquency] 7253\n",
       "\\item[Visa\\textbackslash{}\\_status] 7253\n",
       "\\item[Visa\\textbackslash{}\\_mfinanciacion\\textbackslash{}\\_limite] 7253\n",
       "\\item[Visa\\textbackslash{}\\_Fvencimiento] 7253\n",
       "\\item[Visa\\textbackslash{}\\_msaldototal] 7253\n",
       "\\item[Visa\\textbackslash{}\\_msaldopesos] 7253\n",
       "\\item[Visa\\textbackslash{}\\_msaldodolares] 7253\n",
       "\\item[Visa\\textbackslash{}\\_mlimitecompra] 7253\n",
       "\\item[Visa\\textbackslash{}\\_mpagado] 7253\n",
       "\\item[Visa\\textbackslash{}\\_fechaalta] 7253\n",
       "\\item[Visa\\textbackslash{}\\_mpagominimo] 7253\n",
       "\\item[mtarjeta\\textbackslash{}\\_master\\textbackslash{}\\_descuentos] 4386\n",
       "\\item[mtarjeta\\textbackslash{}\\_visa\\textbackslash{}\\_descuentos] 4381\n",
       "\\item[active\\textbackslash{}\\_quarter] 0\n",
       "\\item[cliente\\textbackslash{}\\_vip] 0\n",
       "\\item[internet] 0\n",
       "\\item[cliente\\textbackslash{}\\_edad] 0\n",
       "\\item[cliente\\textbackslash{}\\_antiguedad] 0\n",
       "\\item[mrentabilidad] 0\n",
       "\\item[mrentabilidad\\textbackslash{}\\_annual] 0\n",
       "\\item[mcomisiones] 0\n",
       "\\item[mactivos\\textbackslash{}\\_margen] 0\n",
       "\\item[mpasivos\\textbackslash{}\\_margen] 0\n",
       "\\item[cproductos] 0\n",
       "\\item[tcuentas] 0\n",
       "\\item[ccuenta\\textbackslash{}\\_corriente] 0\n",
       "\\item[mcuenta\\textbackslash{}\\_corriente\\textbackslash{}\\_adicional] 0\n",
       "\\item[mcuenta\\textbackslash{}\\_corriente] 0\n",
       "\\item[ccaja\\textbackslash{}\\_ahorro] 0\n",
       "\\item[mcaja\\textbackslash{}\\_ahorro] 0\n",
       "\\item[mcaja\\textbackslash{}\\_ahorro\\textbackslash{}\\_adicional] 0\n",
       "\\item[mcaja\\textbackslash{}\\_ahorro\\textbackslash{}\\_dolares] 0\n",
       "\\item[cdescubierto\\textbackslash{}\\_preacordado] 0\n",
       "\\item[mcuentas\\textbackslash{}\\_saldo] 0\n",
       "\\item[ctarjeta\\textbackslash{}\\_debito] 0\n",
       "\\item[ctarjeta\\textbackslash{}\\_debito\\textbackslash{}\\_transacciones] 0\n",
       "\\item[mautoservicio] 0\n",
       "\\item[ctarjeta\\textbackslash{}\\_visa] 0\n",
       "\\item[ctarjeta\\textbackslash{}\\_visa\\textbackslash{}\\_transacciones] 0\n",
       "\\item[mtarjeta\\textbackslash{}\\_visa\\textbackslash{}\\_consumo] 0\n",
       "\\item[ctarjeta\\textbackslash{}\\_master] 0\n",
       "\\item[ctarjeta\\textbackslash{}\\_master\\textbackslash{}\\_transacciones] 0\n",
       "\\item[mtarjeta\\textbackslash{}\\_master\\textbackslash{}\\_consumo] 0\n",
       "\\item[cprestamos\\textbackslash{}\\_personales] 0\n",
       "\\item[mprestamos\\textbackslash{}\\_personales] 0\n",
       "\\item[cprestamos\\textbackslash{}\\_prendarios] 0\n",
       "\\item[mprestamos\\textbackslash{}\\_prendarios] 0\n",
       "\\item[cprestamos\\textbackslash{}\\_hipotecarios] 0\n",
       "\\item[mprestamos\\textbackslash{}\\_hipotecarios] 0\n",
       "\\item[cplazo\\textbackslash{}\\_fijo] 0\n",
       "\\item[mplazo\\textbackslash{}\\_fijo\\textbackslash{}\\_dolares] 0\n",
       "\\item[mplazo\\textbackslash{}\\_fijo\\textbackslash{}\\_pesos] 0\n",
       "\\item[cinversion1] 0\n",
       "\\item[minversion1\\textbackslash{}\\_pesos] 0\n",
       "\\item[minversion1\\textbackslash{}\\_dolares] 0\n",
       "\\item[cinversion2] 0\n",
       "\\item[minversion2] 0\n",
       "\\item[cseguro\\textbackslash{}\\_vida] 0\n",
       "\\item[cseguro\\textbackslash{}\\_auto] 0\n",
       "\\item[cseguro\\textbackslash{}\\_vivienda] 0\n",
       "\\item[cseguro\\textbackslash{}\\_accidentes\\textbackslash{}\\_personales] 0\n",
       "\\item[ccaja\\textbackslash{}\\_seguridad] 0\n",
       "\\item[cpayroll\\textbackslash{}\\_trx] 0\n",
       "\\item[mpayroll] 0\n",
       "\\item[mpayroll2] 0\n",
       "\\item[cpayroll2\\textbackslash{}\\_trx] 0\n",
       "\\item[ccuenta\\textbackslash{}\\_debitos\\textbackslash{}\\_automaticos] 0\n",
       "\\item[mcuenta\\textbackslash{}\\_debitos\\textbackslash{}\\_automaticos] 0\n",
       "\\item[ctarjeta\\textbackslash{}\\_visa\\textbackslash{}\\_debitos\\textbackslash{}\\_automaticos] 0\n",
       "\\item[mttarjeta\\textbackslash{}\\_visa\\textbackslash{}\\_debitos\\textbackslash{}\\_automaticos] 0\n",
       "\\item[ctarjeta\\textbackslash{}\\_master\\textbackslash{}\\_debitos\\textbackslash{}\\_automaticos] 0\n",
       "\\item[mttarjeta\\textbackslash{}\\_master\\textbackslash{}\\_debitos\\textbackslash{}\\_automaticos] 0\n",
       "\\item[cpagodeservicios] 0\n",
       "\\item[mpagodeservicios] 0\n",
       "\\item[cpagomiscuentas] 0\n",
       "\\item[mpagomiscuentas] 0\n",
       "\\item[ccajeros\\textbackslash{}\\_propios\\textbackslash{}\\_descuentos] 0\n",
       "\\item[mcajeros\\textbackslash{}\\_propios\\textbackslash{}\\_descuentos] 0\n",
       "\\item[ctarjeta\\textbackslash{}\\_visa\\textbackslash{}\\_descuentos] 0\n",
       "\\item[ctarjeta\\textbackslash{}\\_master\\textbackslash{}\\_descuentos] 0\n",
       "\\item[ccomisiones\\textbackslash{}\\_mantenimiento] 0\n",
       "\\item[mcomisiones\\textbackslash{}\\_mantenimiento] 0\n",
       "\\item[ccomisiones\\textbackslash{}\\_otras] 0\n",
       "\\item[mcomisiones\\textbackslash{}\\_otras] 0\n",
       "\\item[cforex] 0\n",
       "\\item[cforex\\textbackslash{}\\_buy] 0\n",
       "\\item[mforex\\textbackslash{}\\_buy] 0\n",
       "\\item[cforex\\textbackslash{}\\_sell] 0\n",
       "\\item[mforex\\textbackslash{}\\_sell] 0\n",
       "\\item[ctransferencias\\textbackslash{}\\_recibidas] 0\n",
       "\\item[mtransferencias\\textbackslash{}\\_recibidas] 0\n",
       "\\item[ctransferencias\\textbackslash{}\\_emitidas] 0\n",
       "\\item[mtransferencias\\textbackslash{}\\_emitidas] 0\n",
       "\\item[cextraccion\\textbackslash{}\\_autoservicio] 0\n",
       "\\item[mextraccion\\textbackslash{}\\_autoservicio] 0\n",
       "\\item[ccheques\\textbackslash{}\\_depositados] 0\n",
       "\\item[mcheques\\textbackslash{}\\_depositados] 0\n",
       "\\item[ccheques\\textbackslash{}\\_emitidos] 0\n",
       "\\item[mcheques\\textbackslash{}\\_emitidos] 0\n",
       "\\item[ccheques\\textbackslash{}\\_depositados\\textbackslash{}\\_rechazados] 0\n",
       "\\item[mcheques\\textbackslash{}\\_depositados\\textbackslash{}\\_rechazados] 0\n",
       "\\item[ccheques\\textbackslash{}\\_emitidos\\textbackslash{}\\_rechazados] 0\n",
       "\\item[mcheques\\textbackslash{}\\_emitidos\\textbackslash{}\\_rechazados] 0\n",
       "\\item[tcallcenter] 0\n",
       "\\item[ccallcenter\\textbackslash{}\\_transacciones] 0\n",
       "\\item[thomebanking] 0\n",
       "\\item[chomebanking\\textbackslash{}\\_transacciones] 0\n",
       "\\item[ccajas\\textbackslash{}\\_transacciones] 0\n",
       "\\item[ccajas\\textbackslash{}\\_consultas] 0\n",
       "\\item[ccajas\\textbackslash{}\\_depositos] 0\n",
       "\\item[ccajas\\textbackslash{}\\_extracciones] 0\n",
       "\\item[ccajas\\textbackslash{}\\_otras] 0\n",
       "\\item[catm\\textbackslash{}\\_trx] 0\n",
       "\\item[matm] 0\n",
       "\\item[catm\\textbackslash{}\\_trx\\textbackslash{}\\_other] 0\n",
       "\\item[matm\\textbackslash{}\\_other] 0\n",
       "\\item[ctrx\\textbackslash{}\\_quarter] 0\n",
       "\\item[tmobile\\textbackslash{}\\_app] 0\n",
       "\\item[cmobile\\textbackslash{}\\_app\\textbackslash{}\\_trx] 0\n",
       "\\end{description*}\n"
      ],
      "text/markdown": [
       "Master_Finiciomora\n",
       ":   163858Visa_Finiciomora\n",
       ":   163595Master_mconsumospesos\n",
       ":   94804Master_mconsumosdolares\n",
       ":   94804Master_madelantopesos\n",
       ":   94804Master_madelantodolares\n",
       ":   94804Master_mpagospesos\n",
       ":   94804Master_mpagosdolares\n",
       ":   94804Master_mconsumototal\n",
       ":   94804Master_cconsumos\n",
       ":   94804Master_cadelantosefectivo\n",
       ":   94804Visa_mconsumospesos\n",
       ":   20333Visa_mconsumosdolares\n",
       ":   20333Visa_madelantopesos\n",
       ":   20333Visa_madelantodolares\n",
       ":   20333Visa_mpagospesos\n",
       ":   20333Visa_mpagosdolares\n",
       ":   20333Visa_mconsumototal\n",
       ":   20333Visa_cconsumos\n",
       ":   20333Visa_cadelantosefectivo\n",
       ":   20333Master_fultimo_cierre\n",
       ":   15781Master_delinquency\n",
       ":   15743Master_status\n",
       ":   15743Master_mfinanciacion_limite\n",
       ":   15743Master_Fvencimiento\n",
       ":   15743Master_msaldototal\n",
       ":   15743Master_msaldopesos\n",
       ":   15743Master_msaldodolares\n",
       ":   15743Master_mlimitecompra\n",
       ":   15743Master_mpagado\n",
       ":   15743Master_fechaalta\n",
       ":   15743Master_mpagominimo\n",
       ":   15743Visa_fultimo_cierre\n",
       ":   7285Visa_delinquency\n",
       ":   7253Visa_status\n",
       ":   7253Visa_mfinanciacion_limite\n",
       ":   7253Visa_Fvencimiento\n",
       ":   7253Visa_msaldototal\n",
       ":   7253Visa_msaldopesos\n",
       ":   7253Visa_msaldodolares\n",
       ":   7253Visa_mlimitecompra\n",
       ":   7253Visa_mpagado\n",
       ":   7253Visa_fechaalta\n",
       ":   7253Visa_mpagominimo\n",
       ":   7253mtarjeta_master_descuentos\n",
       ":   4386mtarjeta_visa_descuentos\n",
       ":   4381active_quarter\n",
       ":   0cliente_vip\n",
       ":   0internet\n",
       ":   0cliente_edad\n",
       ":   0cliente_antiguedad\n",
       ":   0mrentabilidad\n",
       ":   0mrentabilidad_annual\n",
       ":   0mcomisiones\n",
       ":   0mactivos_margen\n",
       ":   0mpasivos_margen\n",
       ":   0cproductos\n",
       ":   0tcuentas\n",
       ":   0ccuenta_corriente\n",
       ":   0mcuenta_corriente_adicional\n",
       ":   0mcuenta_corriente\n",
       ":   0ccaja_ahorro\n",
       ":   0mcaja_ahorro\n",
       ":   0mcaja_ahorro_adicional\n",
       ":   0mcaja_ahorro_dolares\n",
       ":   0cdescubierto_preacordado\n",
       ":   0mcuentas_saldo\n",
       ":   0ctarjeta_debito\n",
       ":   0ctarjeta_debito_transacciones\n",
       ":   0mautoservicio\n",
       ":   0ctarjeta_visa\n",
       ":   0ctarjeta_visa_transacciones\n",
       ":   0mtarjeta_visa_consumo\n",
       ":   0ctarjeta_master\n",
       ":   0ctarjeta_master_transacciones\n",
       ":   0mtarjeta_master_consumo\n",
       ":   0cprestamos_personales\n",
       ":   0mprestamos_personales\n",
       ":   0cprestamos_prendarios\n",
       ":   0mprestamos_prendarios\n",
       ":   0cprestamos_hipotecarios\n",
       ":   0mprestamos_hipotecarios\n",
       ":   0cplazo_fijo\n",
       ":   0mplazo_fijo_dolares\n",
       ":   0mplazo_fijo_pesos\n",
       ":   0cinversion1\n",
       ":   0minversion1_pesos\n",
       ":   0minversion1_dolares\n",
       ":   0cinversion2\n",
       ":   0minversion2\n",
       ":   0cseguro_vida\n",
       ":   0cseguro_auto\n",
       ":   0cseguro_vivienda\n",
       ":   0cseguro_accidentes_personales\n",
       ":   0ccaja_seguridad\n",
       ":   0cpayroll_trx\n",
       ":   0mpayroll\n",
       ":   0mpayroll2\n",
       ":   0cpayroll2_trx\n",
       ":   0ccuenta_debitos_automaticos\n",
       ":   0mcuenta_debitos_automaticos\n",
       ":   0ctarjeta_visa_debitos_automaticos\n",
       ":   0mttarjeta_visa_debitos_automaticos\n",
       ":   0ctarjeta_master_debitos_automaticos\n",
       ":   0mttarjeta_master_debitos_automaticos\n",
       ":   0cpagodeservicios\n",
       ":   0mpagodeservicios\n",
       ":   0cpagomiscuentas\n",
       ":   0mpagomiscuentas\n",
       ":   0ccajeros_propios_descuentos\n",
       ":   0mcajeros_propios_descuentos\n",
       ":   0ctarjeta_visa_descuentos\n",
       ":   0ctarjeta_master_descuentos\n",
       ":   0ccomisiones_mantenimiento\n",
       ":   0mcomisiones_mantenimiento\n",
       ":   0ccomisiones_otras\n",
       ":   0mcomisiones_otras\n",
       ":   0cforex\n",
       ":   0cforex_buy\n",
       ":   0mforex_buy\n",
       ":   0cforex_sell\n",
       ":   0mforex_sell\n",
       ":   0ctransferencias_recibidas\n",
       ":   0mtransferencias_recibidas\n",
       ":   0ctransferencias_emitidas\n",
       ":   0mtransferencias_emitidas\n",
       ":   0cextraccion_autoservicio\n",
       ":   0mextraccion_autoservicio\n",
       ":   0ccheques_depositados\n",
       ":   0mcheques_depositados\n",
       ":   0ccheques_emitidos\n",
       ":   0mcheques_emitidos\n",
       ":   0ccheques_depositados_rechazados\n",
       ":   0mcheques_depositados_rechazados\n",
       ":   0ccheques_emitidos_rechazados\n",
       ":   0mcheques_emitidos_rechazados\n",
       ":   0tcallcenter\n",
       ":   0ccallcenter_transacciones\n",
       ":   0thomebanking\n",
       ":   0chomebanking_transacciones\n",
       ":   0ccajas_transacciones\n",
       ":   0ccajas_consultas\n",
       ":   0ccajas_depositos\n",
       ":   0ccajas_extracciones\n",
       ":   0ccajas_otras\n",
       ":   0catm_trx\n",
       ":   0matm\n",
       ":   0catm_trx_other\n",
       ":   0matm_other\n",
       ":   0ctrx_quarter\n",
       ":   0tmobile_app\n",
       ":   0cmobile_app_trx\n",
       ":   0\n",
       "\n"
      ],
      "text/plain": [
       "                  Master_Finiciomora                     Visa_Finiciomora \n",
       "                              163858                               163595 \n",
       "               Master_mconsumospesos              Master_mconsumosdolares \n",
       "                               94804                                94804 \n",
       "               Master_madelantopesos              Master_madelantodolares \n",
       "                               94804                                94804 \n",
       "                  Master_mpagospesos                 Master_mpagosdolares \n",
       "                               94804                                94804 \n",
       "                Master_mconsumototal                     Master_cconsumos \n",
       "                               94804                                94804 \n",
       "           Master_cadelantosefectivo                  Visa_mconsumospesos \n",
       "                               94804                                20333 \n",
       "               Visa_mconsumosdolares                  Visa_madelantopesos \n",
       "                               20333                                20333 \n",
       "               Visa_madelantodolares                     Visa_mpagospesos \n",
       "                               20333                                20333 \n",
       "                  Visa_mpagosdolares                   Visa_mconsumototal \n",
       "                               20333                                20333 \n",
       "                      Visa_cconsumos              Visa_cadelantosefectivo \n",
       "                               20333                                20333 \n",
       "               Master_fultimo_cierre                   Master_delinquency \n",
       "                               15781                                15743 \n",
       "                       Master_status          Master_mfinanciacion_limite \n",
       "                               15743                                15743 \n",
       "                 Master_Fvencimiento                   Master_msaldototal \n",
       "                               15743                                15743 \n",
       "                  Master_msaldopesos                 Master_msaldodolares \n",
       "                               15743                                15743 \n",
       "                Master_mlimitecompra                       Master_mpagado \n",
       "                               15743                                15743 \n",
       "                    Master_fechaalta                   Master_mpagominimo \n",
       "                               15743                                15743 \n",
       "                 Visa_fultimo_cierre                     Visa_delinquency \n",
       "                                7285                                 7253 \n",
       "                         Visa_status            Visa_mfinanciacion_limite \n",
       "                                7253                                 7253 \n",
       "                   Visa_Fvencimiento                     Visa_msaldototal \n",
       "                                7253                                 7253 \n",
       "                    Visa_msaldopesos                   Visa_msaldodolares \n",
       "                                7253                                 7253 \n",
       "                  Visa_mlimitecompra                         Visa_mpagado \n",
       "                                7253                                 7253 \n",
       "                      Visa_fechaalta                     Visa_mpagominimo \n",
       "                                7253                                 7253 \n",
       "          mtarjeta_master_descuentos             mtarjeta_visa_descuentos \n",
       "                                4386                                 4381 \n",
       "                      active_quarter                          cliente_vip \n",
       "                                   0                                    0 \n",
       "                            internet                         cliente_edad \n",
       "                                   0                                    0 \n",
       "                  cliente_antiguedad                        mrentabilidad \n",
       "                                   0                                    0 \n",
       "                mrentabilidad_annual                          mcomisiones \n",
       "                                   0                                    0 \n",
       "                     mactivos_margen                      mpasivos_margen \n",
       "                                   0                                    0 \n",
       "                          cproductos                             tcuentas \n",
       "                                   0                                    0 \n",
       "                   ccuenta_corriente          mcuenta_corriente_adicional \n",
       "                                   0                                    0 \n",
       "                   mcuenta_corriente                         ccaja_ahorro \n",
       "                                   0                                    0 \n",
       "                        mcaja_ahorro               mcaja_ahorro_adicional \n",
       "                                   0                                    0 \n",
       "                mcaja_ahorro_dolares             cdescubierto_preacordado \n",
       "                                   0                                    0 \n",
       "                      mcuentas_saldo                      ctarjeta_debito \n",
       "                                   0                                    0 \n",
       "       ctarjeta_debito_transacciones                        mautoservicio \n",
       "                                   0                                    0 \n",
       "                       ctarjeta_visa          ctarjeta_visa_transacciones \n",
       "                                   0                                    0 \n",
       "               mtarjeta_visa_consumo                      ctarjeta_master \n",
       "                                   0                                    0 \n",
       "       ctarjeta_master_transacciones              mtarjeta_master_consumo \n",
       "                                   0                                    0 \n",
       "               cprestamos_personales                mprestamos_personales \n",
       "                                   0                                    0 \n",
       "               cprestamos_prendarios                mprestamos_prendarios \n",
       "                                   0                                    0 \n",
       "             cprestamos_hipotecarios              mprestamos_hipotecarios \n",
       "                                   0                                    0 \n",
       "                         cplazo_fijo                  mplazo_fijo_dolares \n",
       "                                   0                                    0 \n",
       "                   mplazo_fijo_pesos                          cinversion1 \n",
       "                                   0                                    0 \n",
       "                   minversion1_pesos                  minversion1_dolares \n",
       "                                   0                                    0 \n",
       "                         cinversion2                          minversion2 \n",
       "                                   0                                    0 \n",
       "                        cseguro_vida                         cseguro_auto \n",
       "                                   0                                    0 \n",
       "                    cseguro_vivienda        cseguro_accidentes_personales \n",
       "                                   0                                    0 \n",
       "                     ccaja_seguridad                         cpayroll_trx \n",
       "                                   0                                    0 \n",
       "                            mpayroll                            mpayroll2 \n",
       "                                   0                                    0 \n",
       "                       cpayroll2_trx          ccuenta_debitos_automaticos \n",
       "                                   0                                    0 \n",
       "         mcuenta_debitos_automaticos    ctarjeta_visa_debitos_automaticos \n",
       "                                   0                                    0 \n",
       "  mttarjeta_visa_debitos_automaticos  ctarjeta_master_debitos_automaticos \n",
       "                                   0                                    0 \n",
       "mttarjeta_master_debitos_automaticos                     cpagodeservicios \n",
       "                                   0                                    0 \n",
       "                    mpagodeservicios                      cpagomiscuentas \n",
       "                                   0                                    0 \n",
       "                     mpagomiscuentas          ccajeros_propios_descuentos \n",
       "                                   0                                    0 \n",
       "         mcajeros_propios_descuentos             ctarjeta_visa_descuentos \n",
       "                                   0                                    0 \n",
       "          ctarjeta_master_descuentos            ccomisiones_mantenimiento \n",
       "                                   0                                    0 \n",
       "           mcomisiones_mantenimiento                    ccomisiones_otras \n",
       "                                   0                                    0 \n",
       "                   mcomisiones_otras                               cforex \n",
       "                                   0                                    0 \n",
       "                          cforex_buy                           mforex_buy \n",
       "                                   0                                    0 \n",
       "                         cforex_sell                          mforex_sell \n",
       "                                   0                                    0 \n",
       "           ctransferencias_recibidas            mtransferencias_recibidas \n",
       "                                   0                                    0 \n",
       "            ctransferencias_emitidas             mtransferencias_emitidas \n",
       "                                   0                                    0 \n",
       "            cextraccion_autoservicio             mextraccion_autoservicio \n",
       "                                   0                                    0 \n",
       "                ccheques_depositados                 mcheques_depositados \n",
       "                                   0                                    0 \n",
       "                   ccheques_emitidos                    mcheques_emitidos \n",
       "                                   0                                    0 \n",
       "     ccheques_depositados_rechazados      mcheques_depositados_rechazados \n",
       "                                   0                                    0 \n",
       "        ccheques_emitidos_rechazados         mcheques_emitidos_rechazados \n",
       "                                   0                                    0 \n",
       "                         tcallcenter            ccallcenter_transacciones \n",
       "                                   0                                    0 \n",
       "                        thomebanking           chomebanking_transacciones \n",
       "                                   0                                    0 \n",
       "                ccajas_transacciones                     ccajas_consultas \n",
       "                                   0                                    0 \n",
       "                    ccajas_depositos                  ccajas_extracciones \n",
       "                                   0                                    0 \n",
       "                        ccajas_otras                             catm_trx \n",
       "                                   0                                    0 \n",
       "                                matm                       catm_trx_other \n",
       "                                   0                                    0 \n",
       "                          matm_other                         ctrx_quarter \n",
       "                                   0                                    0 \n",
       "                         tmobile_app                      cmobile_app_trx \n",
       "                                   0                                    0 "
      ]
     },
     "metadata": {},
     "output_type": "display_data"
    }
   ],
   "source": [
    "# Sumar los valores faltantes por columna\n",
    "missing_counts <- colSums(is.na(dtrain))\n",
    "\n",
    "# Ordenar los recuentos de valores faltantes de manera descendente\n",
    "missing_counts_sorted <- sort(missing_counts, decreasing = TRUE)\n",
    "\n",
    "missing_counts_sorted"
   ]
  },
  {
   "cell_type": "markdown",
   "id": "b09691e8",
   "metadata": {},
   "source": [
    "## Gráficos"
   ]
  },
  {
   "cell_type": "markdown",
   "id": "0ad67f8b",
   "metadata": {},
   "source": [
    "### Histograma"
   ]
  },
  {
   "cell_type": "code",
   "execution_count": null,
   "id": "791f19b6",
   "metadata": {},
   "outputs": [],
   "source": [
    "pdf(\"histogramas.pdf\", width = 15, height = 15) \n",
    "plot_histogram(dtrain)\n",
    "dev.off()"
   ]
  },
  {
   "cell_type": "markdown",
   "id": "ea619f53",
   "metadata": {},
   "source": [
    "### Densidad"
   ]
  },
  {
   "cell_type": "code",
   "execution_count": null,
   "id": "fabe670f",
   "metadata": {},
   "outputs": [],
   "source": [
    "pdf(\"densidad.pdf\", width = 15, height = 15) \n",
    "plot_density(dtrain)\n",
    "dev.off()"
   ]
  },
  {
   "cell_type": "markdown",
   "id": "76b9eea0",
   "metadata": {},
   "source": [
    "### Barras"
   ]
  },
  {
   "cell_type": "code",
   "execution_count": null,
   "id": "14402b2f",
   "metadata": {},
   "outputs": [
    {
     "ename": "ERROR",
     "evalue": "Error in pdf(\"barras_v2.pdf\", width = 15, height = 15, ncol = 1L): unused argument (ncol = 1)\n",
     "output_type": "error",
     "traceback": [
      "Error in pdf(\"barras_v2.pdf\", width = 15, height = 15, ncol = 1L): unused argument (ncol = 1)\nTraceback:\n"
     ]
    }
   ],
   "source": [
    "pdf(\"barras.pdf\", width = 15, height = 15) \n",
    "plot_bar(dtrain, ggtheme = theme_classic())\n",
    "dev.off()"
   ]
  },
  {
   "cell_type": "markdown",
   "id": "9bf43c83",
   "metadata": {},
   "source": [
    "### Barras por clase ternaria"
   ]
  },
  {
   "cell_type": "code",
   "execution_count": 25,
   "id": "8913d4e8",
   "metadata": {},
   "outputs": [],
   "source": [
    "dplot <- dtrain\n",
    "dplot$clase_ternaria_discreta <- match(dtrain$clase_ternaria, c(\"CONTINUA\", \"BAJA+1\", \"BAJA+2\")) - 1\n",
    "dplot$clase_ternaria_discreta <- factor(dplot$clase_ternaria_discreta)"
   ]
  },
  {
   "cell_type": "code",
   "execution_count": null,
   "id": "edae6e6a",
   "metadata": {},
   "outputs": [],
   "source": [
    "pdf(\"barras-by-clase_ternaria.pdf\", width = 15, height = 15) \n",
    "plot_bar(dplot, by = \"clase_ternaria_discreta\")\n",
    "dev.off()"
   ]
  },
  {
   "cell_type": "markdown",
   "id": "be754b57",
   "metadata": {},
   "source": [
    "### Quantile Quantile"
   ]
  },
  {
   "cell_type": "markdown",
   "id": "df33f655",
   "metadata": {},
   "source": [
    "<i>Tarda un siglo...</i>"
   ]
  },
  {
   "cell_type": "code",
   "execution_count": null,
   "id": "eccb8973",
   "metadata": {},
   "outputs": [],
   "source": [
    "pdf(\"quantile-quantile.pdf\", width = 15, height = 15) \n",
    "plot_qq(dplot)\n",
    "dev.off()"
   ]
  },
  {
   "cell_type": "markdown",
   "id": "ad1e7b80",
   "metadata": {},
   "source": [
    "### Boxplot"
   ]
  },
  {
   "cell_type": "markdown",
   "id": "a73d073b",
   "metadata": {},
   "source": [
    "<i>Tarda un siglo...</i>"
   ]
  },
  {
   "cell_type": "code",
   "execution_count": null,
   "id": "28a57aa7",
   "metadata": {},
   "outputs": [],
   "source": [
    "pdf(\"boxplot_v2.pdf\", width = 15, height = 15) \n",
    "#plot_boxplot(dplot, by = \"clase_ternaria_discreta\", ncol = 2L)\n",
    "plot_boxplot(dtrain, by = \"clase_ternaria\", ncol = 1L)\n",
    "dev.off()"
   ]
  },
  {
   "cell_type": "markdown",
   "id": "fb82c838",
   "metadata": {},
   "source": [
    "### Scatterplot"
   ]
  },
  {
   "cell_type": "markdown",
   "id": "bdd22c23",
   "metadata": {},
   "source": [
    "<i>Tarda un siglo...</i>"
   ]
  },
  {
   "cell_type": "code",
   "execution_count": null,
   "id": "494fc63c",
   "metadata": {},
   "outputs": [],
   "source": [
    "pdf(\"scatterplot.pdf\", width = 15, height = 15) \n",
    "#plot_scatterplot(dplot, by = \"clase_ternaria_discreta\", sampled_rows = nrow(dplot))\n",
    "plot_scatterplot(dtrain, by = \"clase_ternaria\", sampled_rows = nrow(dplot))\n",
    "dev.off()"
   ]
  },
  {
   "cell_type": "markdown",
   "id": "80768cac",
   "metadata": {},
   "source": [
    "### Correlación"
   ]
  },
  {
   "cell_type": "markdown",
   "id": "4b3bc049",
   "metadata": {},
   "source": [
    "<i>Tarda un siglo...</i>"
   ]
  },
  {
   "cell_type": "code",
   "execution_count": null,
   "id": "652952e3",
   "metadata": {},
   "outputs": [],
   "source": [
    "#pdf(\"correlograma.pdf\", width = 15, height = 15) \n",
    "#plot_correlation(dtrain, type = 'continuous' , cor_args = list(\"method = 'circle'\"))\n",
    "#dev.off()"
   ]
  },
  {
   "cell_type": "markdown",
   "id": "27a9e0e5",
   "metadata": {},
   "source": [
    "<i>meter lo que hice yo en RStudio...</i>"
   ]
  },
  {
   "cell_type": "code",
   "execution_count": 128,
   "id": "6a1fb92c-4d41-4445-9142-8a57c92627f2",
   "metadata": {},
   "outputs": [],
   "source": [
    "#dcor <- cor( select(dtrain, where(~is.numeric(.))) ) \n",
    "dcor <- dtrain[, c(\"numero_de_cliente\", \"foto_mes\", \"clase_ternaria\") := NULL]"
   ]
  },
  {
   "cell_type": "markdown",
   "id": "79f6b490-83e6-45e6-a062-9df7ad4a6da9",
   "metadata": {},
   "source": [
    "<i>Nos quedamos con aquellos cuya correlación es >= 0.8 </i>"
   ]
  },
  {
   "cell_type": "code",
   "execution_count": 134,
   "id": "214fae27-92fc-41af-b21e-99e57315a65d",
   "metadata": {},
   "outputs": [
    {
     "data": {
      "text/html": [
       "<strong>png:</strong> 2"
      ],
      "text/latex": [
       "\\textbf{png:} 2"
      ],
      "text/markdown": [
       "**png:** 2"
      ],
      "text/plain": [
       "png \n",
       "  2 "
      ]
     },
     "metadata": {},
     "output_type": "display_data"
    }
   ],
   "source": [
    "pdf(\"correlograma.pdf\", width = 15, height = 15) \n",
    "# Calcula la matriz de correlación\n",
    "correlation_matrix <- cor(dcor)\n",
    "\n",
    "# Encuentra las parejas de columnas con correlación mayor o igual a 0.8\n",
    "high_correlation_pairs <- which(abs(correlation_matrix) >= 0.8 & abs(correlation_matrix) < 1, arr.ind = TRUE)\n",
    "\n",
    "# Obtén los nombres de las columnas con alta correlación\n",
    "column_names <- colnames(dcor)\n",
    "\n",
    "# Extrae los pares de columnas con alta correlación\n",
    "high_correlation_column_names <- column_names[high_correlation_pairs[, 1]]\n",
    "high_correlation_column_names <- unique(c(high_correlation_column_names, column_names[high_correlation_pairs[, 2]]))\n",
    "\n",
    "# Filtra la matriz de correlación para incluir solo las columnas con alta correlación\n",
    "high_correlation_matrix <- correlation_matrix[high_correlation_column_names, high_correlation_column_names]\n",
    "\n",
    "# Grafica la matriz de correlación\n",
    "corrplot(high_correlation_matrix, method = \"circle\", type = \"upper\", tl.cex = 0.7, addCoef.col = \"black\", number.digits = 2)\n",
    "\n",
    "dev.off()"
   ]
  },
  {
   "cell_type": "code",
   "execution_count": 140,
   "id": "76bbd483-7b09-4ed4-a594-f9fe9f0fb67b",
   "metadata": {},
   "outputs": [
    {
     "data": {
      "text/html": [
       "<style>\n",
       ".list-inline {list-style: none; margin:0; padding: 0}\n",
       ".list-inline>li {display: inline-block}\n",
       ".list-inline>li:not(:last-child)::after {content: \"\\00b7\"; padding: 0 .5ex}\n",
       "</style>\n",
       "<ol class=list-inline><li>'mcomisiones_otras'</li><li>'mprestamos_hipotecarios'</li><li>'cprestamos_hipotecarios'</li><li>'mcomisiones'</li><li>'cforex_sell'</li><li>'cforex'</li><li>'catm_trx'</li><li>'matm'</li><li>'cextraccion_autoservicio'</li><li>'mextraccion_autoservicio'</li><li>'matm_other'</li><li>'catm_trx_other'</li></ol>\n"
      ],
      "text/latex": [
       "\\begin{enumerate*}\n",
       "\\item 'mcomisiones\\_otras'\n",
       "\\item 'mprestamos\\_hipotecarios'\n",
       "\\item 'cprestamos\\_hipotecarios'\n",
       "\\item 'mcomisiones'\n",
       "\\item 'cforex\\_sell'\n",
       "\\item 'cforex'\n",
       "\\item 'catm\\_trx'\n",
       "\\item 'matm'\n",
       "\\item 'cextraccion\\_autoservicio'\n",
       "\\item 'mextraccion\\_autoservicio'\n",
       "\\item 'matm\\_other'\n",
       "\\item 'catm\\_trx\\_other'\n",
       "\\end{enumerate*}\n"
      ],
      "text/markdown": [
       "1. 'mcomisiones_otras'\n",
       "2. 'mprestamos_hipotecarios'\n",
       "3. 'cprestamos_hipotecarios'\n",
       "4. 'mcomisiones'\n",
       "5. 'cforex_sell'\n",
       "6. 'cforex'\n",
       "7. 'catm_trx'\n",
       "8. 'matm'\n",
       "9. 'cextraccion_autoservicio'\n",
       "10. 'mextraccion_autoservicio'\n",
       "11. 'matm_other'\n",
       "12. 'catm_trx_other'\n",
       "\n",
       "\n"
      ],
      "text/plain": [
       " [1] \"mcomisiones_otras\"        \"mprestamos_hipotecarios\" \n",
       " [3] \"cprestamos_hipotecarios\"  \"mcomisiones\"             \n",
       " [5] \"cforex_sell\"              \"cforex\"                  \n",
       " [7] \"catm_trx\"                 \"matm\"                    \n",
       " [9] \"cextraccion_autoservicio\" \"mextraccion_autoservicio\"\n",
       "[11] \"matm_other\"               \"catm_trx_other\"          "
      ]
     },
     "metadata": {},
     "output_type": "display_data"
    }
   ],
   "source": [
    "high_correlation_column_names"
   ]
  },
  {
   "cell_type": "markdown",
   "id": "a2935187",
   "metadata": {},
   "source": [
    "### PCA"
   ]
  },
  {
   "cell_type": "markdown",
   "id": "29ba869a",
   "metadata": {},
   "source": [
    "Análisis de componentes principales"
   ]
  },
  {
   "cell_type": "markdown",
   "id": "39f656ae-ab1e-4a3a-8858-44bfcf6a691c",
   "metadata": {},
   "source": [
    "Usamos las variables con correlación > 0.8 del paso anterior"
   ]
  },
  {
   "cell_type": "code",
   "execution_count": 144,
   "id": "3b12d04f-5409-4919-b8ae-e27897ef4b79",
   "metadata": {},
   "outputs": [],
   "source": [
    "df_pca <-  dtrain[, high_correlation_column_names,  with = FALSE]"
   ]
  },
  {
   "cell_type": "code",
   "execution_count": 147,
   "id": "096dd353-c96b-4854-85f2-2d73824310c7",
   "metadata": {},
   "outputs": [],
   "source": [
    "pca <- prcomp(df_pca, center=TRUE, scale=TRUE)"
   ]
  },
  {
   "cell_type": "code",
   "execution_count": 155,
   "id": "fb1e5b26-1644-48ac-bbcb-1a3612206cb7",
   "metadata": {},
   "outputs": [],
   "source": [
    "resumen <- summary(pca) "
   ]
  },
  {
   "cell_type": "code",
   "execution_count": 164,
   "id": "d9da4d4f-fec9-4819-8c53-6c3ce387644b",
   "metadata": {},
   "outputs": [
    {
     "data": {
      "text/plain": [
       "Importance of components:\n",
       "                          PC1    PC2    PC3    PC4    PC5     PC6     PC7\n",
       "Standard deviation     1.8961 1.4188 1.4031 1.3523 1.3424 0.65629 0.41678\n",
       "Proportion of Variance 0.2996 0.1677 0.1641 0.1524 0.1502 0.03589 0.01448\n",
       "Cumulative Proportion  0.2996 0.4673 0.6314 0.7838 0.9340 0.96985 0.98433\n",
       "                           PC8     PC9    PC10      PC11     PC12\n",
       "Standard deviation     0.39730 0.17251 0.02141 1.118e-13 5.42e-14\n",
       "Proportion of Variance 0.01315 0.00248 0.00004 0.000e+00 0.00e+00\n",
       "Cumulative Proportion  0.99748 0.99996 1.00000 1.000e+00 1.00e+00"
      ]
     },
     "metadata": {},
     "output_type": "display_data"
    }
   ],
   "source": [
    "resumen"
   ]
  },
  {
   "cell_type": "markdown",
   "id": "f3da9e87-c422-47ae-aeaf-6be184110821",
   "metadata": {},
   "source": [
    "<b><i>Usando la biblioteca DataExplorer</b></i>"
   ]
  },
  {
   "cell_type": "code",
   "execution_count": null,
   "id": "81938d3f",
   "metadata": {},
   "outputs": [],
   "source": [
    "# plot_prcomp(dtrain, maxcat = 5L)\n",
    "pdf(\"pca.pdf\", width = 15, height = 15) \n",
    "plot_prcomp(na.omit(dtrain), variance_cap = 0.9, nrow = 1L, ncol = 1L)\n",
    "dev.off()"
   ]
  },
  {
   "cell_type": "markdown",
   "id": "55dd81ff-c9da-435d-9d0b-15ad3e71fee4",
   "metadata": {},
   "source": [
    "<i>El metodo plot_prcomp tira lo siguiente:</i>\n",
    "\"The following features are dropped due to zero variance:\n",
    "\t* foto_mes\n",
    "\t* cliente_vip\n",
    "\t* ccuenta_corriente\n",
    "\t* mcuenta_corriente_adicional\n",
    "\t* cprestamos_hipotecarios\n",
    "\t* mprestamos_hipotecarios\n",
    "\t* mplazo_fijo_pesos\n",
    "\t* mpayroll2\n",
    "\t* cpayroll2_trx\n",
    "\t* Master_delinquency\n",
    "\t* Master_madelantodolares\n",
    "\t* Master_mpagosdolares\n",
    "\t* Visa_delinquency\n",
    "\t* Visa_madelantodolares\n",
    "\t* Visa_mpagosdolares"
   ]
  },
  {
   "cell_type": "markdown",
   "id": "f39e9493-7669-45c0-b0ca-722a674db2bb",
   "metadata": {},
   "source": [
    "# Clientes"
   ]
  },
  {
   "cell_type": "markdown",
   "id": "c40b845d-c081-41f2-8cab-0dab74f9596c",
   "metadata": {
    "tags": []
   },
   "source": [
    "Tenemos una serie de datos propios del cliente.\n",
    "- numero_cliente\n",
    "- active_quarter\n",
    "- cliente_vip\n",
    "- internet\n",
    "- edad\n",
    "- antiguedad\n",
    "- ctrx_quarter"
   ]
  },
  {
   "cell_type": "markdown",
   "id": "8a535ff0-64ac-48ed-9320-22da89184c3a",
   "metadata": {},
   "source": [
    "# Ganancias del Banco"
   ]
  },
  {
   "cell_type": "markdown",
   "id": "13cdca63-a86a-4d9c-93af-4d03e3e0819a",
   "metadata": {},
   "source": [
    "Tenemos una serie de datos que se asocian con la ganancia que recibe el banco por parte del cliente.\n",
    "- ganancia_mes_actual\n",
    "- ganancia_anual\n",
    "- comisiones\n",
    "- ganancia_por_intereses\n",
    "- ganancia_por_inversiones"
   ]
  },
  {
   "cell_type": "markdown",
   "id": "6962c470-0bfe-4ad7-ab7b-e9c7ae685b54",
   "metadata": {},
   "source": [
    "# Comisiones"
   ]
  },
  {
   "cell_type": "markdown",
   "id": "45958a64-46be-4436-a430-a7c3c7035467",
   "metadata": {},
   "source": [
    "Tenemos una serie de variables asociadas a comisiones que se le cobran al cliente:\n",
    "- Por mantenimiento \n",
    "- Otras"
   ]
  },
  {
   "cell_type": "markdown",
   "id": "6f579a5a-024e-4008-b511-c03743e80269",
   "metadata": {},
   "source": [
    "# Acreditaciones"
   ]
  },
  {
   "cell_type": "markdown",
   "id": "42c0be34-7508-404c-90e4-d903c7b0846c",
   "metadata": {},
   "source": [
    "El cliente puede recibir acreditaciones de distintos entes."
   ]
  },
  {
   "cell_type": "markdown",
   "id": "e0d89d81-c3ad-4830-9441-e5fbe1049f4a",
   "metadata": {},
   "source": [
    "# Inversiones"
   ]
  },
  {
   "cell_type": "markdown",
   "id": "7db14437-700c-4d98-a4a8-a56014c09e2b",
   "metadata": {},
   "source": [
    "Hay varios tipo de inversiones:\n",
    "- Inversión tipo I\n",
    "- Inversión tipo II\n",
    "- Plazo Fijo"
   ]
  },
  {
   "cell_type": "markdown",
   "id": "b07890c1-c0e4-4945-8923-67c30320bfcb",
   "metadata": {
    "tags": []
   },
   "source": [
    "# Cuentas"
   ]
  },
  {
   "cell_type": "markdown",
   "id": "96367e14-a2aa-4558-959e-c198be6bbb96",
   "metadata": {},
   "source": [
    "La cuenta asocia....."
   ]
  },
  {
   "cell_type": "markdown",
   "id": "8a963dcf-b64e-4fe3-b2ac-76075594cffe",
   "metadata": {
    "tags": []
   },
   "source": [
    "# Productos"
   ]
  },
  {
   "cell_type": "markdown",
   "id": "c5d8f67f-bf78-42b0-964a-ce57e6f8a02a",
   "metadata": {},
   "source": [
    "Los clientes tienen una serie de productos asociados a una o más cuentas:\n",
    "- Cajas de Ahorro\n",
    "- Cuentas Corrientes\n",
    "- Préstamos\n",
    "    - Personales\n",
    "    - Prendarios\n",
    "    - Hipotecarios\n",
    "- Seguros\n",
    "    - Vida\n",
    "    - Auto\n",
    "    - Vivienda\n",
    "    - Caja de seguridad\n",
    "    - Accidentes personales"
   ]
  },
  {
   "cell_type": "markdown",
   "id": "fc82621f-e279-4da6-a8a1-be03a437d397",
   "metadata": {},
   "source": [
    "## Cajas de ahorro"
   ]
  },
  {
   "cell_type": "code",
   "execution_count": null,
   "id": "5e052538-6412-400f-9b28-2c918f9828f1",
   "metadata": {},
   "outputs": [],
   "source": []
  },
  {
   "cell_type": "markdown",
   "id": "1a44315b-42a0-46c6-a5a4-2e9fd2db42a3",
   "metadata": {},
   "source": [
    "## Cuentas corrientes"
   ]
  },
  {
   "cell_type": "markdown",
   "id": "a2a35b30-96ba-4d60-9a30-a1b70225d238",
   "metadata": {},
   "source": [
    "## Préstamos"
   ]
  },
  {
   "cell_type": "markdown",
   "id": "6da1b34c-4750-4ff2-857f-5caf589fb621",
   "metadata": {},
   "source": [
    "<p><b>Grafico de barras - prestamos cantidades</b></p>"
   ]
  },
  {
   "cell_type": "code",
   "execution_count": 58,
   "id": "92bb83d4-6a82-4747-8eea-444e9e5c6d4c",
   "metadata": {},
   "outputs": [],
   "source": [
    "dtrain_filtrado <- dtrain[clase_ternaria %in% c(\"BAJA+1\", \"BAJA+2\")]"
   ]
  },
  {
   "cell_type": "code",
   "execution_count": 59,
   "id": "41ad03cc-c5b0-4f42-a15d-e86c6a50a5d6",
   "metadata": {},
   "outputs": [],
   "source": [
    "# Convertir cprestamos_hipotecarios en factor para mostrar todos los valores únicos\n",
    "dtrain_filtrado$cprestamos_hipotecarios <- as.factor(dtrain_filtrado$cprestamos_hipotecarios)\n",
    "dtrain_filtrado$cprestamos_personales <- as.factor(dtrain_filtrado$cprestamos_personales)\n",
    "dtrain_filtrado$cprestamos_prendarios <- as.factor(dtrain_filtrado$cprestamos_prendarios)"
   ]
  },
  {
   "cell_type": "code",
   "execution_count": 107,
   "id": "0e9f76a7-00d1-42fb-b22f-e1d19201a0ca",
   "metadata": {},
   "outputs": [
    {
     "data": {
      "text/html": [
       "<strong>png:</strong> 2"
      ],
      "text/latex": [
       "\\textbf{png:} 2"
      ],
      "text/markdown": [
       "**png:** 2"
      ],
      "text/plain": [
       "png \n",
       "  2 "
      ]
     },
     "metadata": {},
     "output_type": "display_data"
    }
   ],
   "source": [
    "pdf(\"prestamos_cantidades.pdf\", width = 15, height = 15) \n",
    "# Crear el gráfico de barras\n",
    "p1 <- ggplot(dtrain_filtrado, aes(x = cprestamos_hipotecarios, fill = clase_ternaria)) +\n",
    "  geom_bar(position = \"dodge\", stat = \"count\") +\n",
    "  geom_text(stat = 'count', aes(label = ..count..)) +\n",
    "  labs(x = \"cprestamos_hipotecarios\", y = \"Count\") +\n",
    "  theme_minimal() +\n",
    "  scale_x_discrete(drop = FALSE)\n",
    "\n",
    "\n",
    "# Crear el gráfico de barras\n",
    "p2 <- ggplot(dtrain_filtrado, aes(x = cprestamos_personales, fill = clase_ternaria)) +\n",
    "  geom_bar(position = \"dodge\", stat = \"count\") +\n",
    "  geom_text(stat = 'count', aes(label = ..count..)) +\n",
    "  labs(x = \"cprestamos_personales\", y = \"Count\") +\n",
    "  theme_minimal() +\n",
    "  scale_x_discrete(drop = FALSE)\n",
    "\n",
    "\n",
    "# Crear el gráfico de barras\n",
    "p3 <- ggplot(dtrain_filtrado, aes(x = cprestamos_prendarios, fill = clase_ternaria)) +\n",
    "  geom_bar(position = \"dodge\", stat = \"count\") +\n",
    "  geom_text(stat = 'count', aes(label = ..count..)) +\n",
    "  labs(x = \"cprestamos_prendarios\", y = \"Count\") +\n",
    "  theme_minimal() +\n",
    "  scale_x_discrete(drop = FALSE)\n",
    "\n",
    "grid.arrange(p1, p2, p3, ncol = 1)\n",
    "dev.off()"
   ]
  },
  {
   "cell_type": "markdown",
   "id": "76cf0038-c670-45a9-b850-faf5e24c9c16",
   "metadata": {},
   "source": [
    "<p><b>Histograma - prestamos montos</b></p>"
   ]
  },
  {
   "cell_type": "code",
   "execution_count": 91,
   "id": "b484e3a9-f40a-4e7c-a8aa-a2e7544da8ea",
   "metadata": {},
   "outputs": [],
   "source": [
    "dtrain_filtrado_baja1 <- dtrain_filtrado[clase_ternaria %in% c(\"BAJA+1\")]\n",
    "dtrain_filtrado_baja2 <- dtrain_filtrado[clase_ternaria %in% c(\"BAJA+2\")]"
   ]
  },
  {
   "cell_type": "code",
   "execution_count": 109,
   "id": "91ded2b0-4862-4016-a760-6cfac6d56593",
   "metadata": {},
   "outputs": [
    {
     "data": {
      "text/html": [
       "<strong>png:</strong> 2"
      ],
      "text/latex": [
       "\\textbf{png:} 2"
      ],
      "text/markdown": [
       "**png:** 2"
      ],
      "text/plain": [
       "png \n",
       "  2 "
      ]
     },
     "metadata": {},
     "output_type": "display_data"
    }
   ],
   "source": [
    "pdf(\"prestamos_montos.pdf\", width = 15, height = 15) \n",
    "\n",
    "p11 <- dtrain_filtrado_baja1%>% as.data.frame %>% ggplot(aes(x = mprestamos_personales)) + ggtitle(\"mprestamos_personales BAJA+1\") + scale_x_continuous(labels = scales::comma) +\n",
    "  geom_histogram(colour = 10, bins = 30) \n",
    "p12 <- dtrain_filtrado_baja2%>% as.data.frame %>% ggplot(aes(x = mprestamos_personales)) + ggtitle(\"mprestamos_personales BAJA+2\") + scale_x_continuous(labels = scales::comma) +\n",
    "  geom_histogram(colour = \"blue\", bins = 30) \n",
    "\n",
    "p21 <- dtrain_filtrado_baja1%>% as.data.frame %>% ggplot(aes(x = mprestamos_hipotecarios)) + ggtitle(\"mprestamos_hipotecarios BAJA+1\") + scale_x_continuous(labels = scales::comma) +\n",
    "  geom_histogram(colour = 10, bins = 30) \n",
    "p22 <- dtrain_filtrado_baja2%>% as.data.frame %>% ggplot(aes(x = mprestamos_hipotecarios)) + ggtitle(\"mprestamos_hipotecarios BAJA+2\") + scale_x_continuous(labels = scales::comma) +\n",
    "  geom_histogram(colour = \"blue\", bins = 30) \n",
    "\n",
    "p31 <- dtrain_filtrado_baja1%>% as.data.frame %>% ggplot(aes(x = mprestamos_prendarios)) + ggtitle(\"mprestamos_prendarios BAJA+1\") + scale_x_continuous(labels = scales::comma) +\n",
    "  geom_histogram(colour = 10, bins = 30) \n",
    "p32 <- dtrain_filtrado_baja2%>% as.data.frame %>% ggplot(aes(x = mprestamos_prendarios)) + ggtitle(\"mprestamos_prendarios BAJA+2\") + scale_x_continuous(labels = scales::comma) +\n",
    "  geom_histogram(colour = \"blue\", bins = 30) \n",
    "\n",
    "grid.arrange(p11, p12, p21, p22, p31, p32, ncol = 2)\n",
    "dev.off()"
   ]
  },
  {
   "cell_type": "markdown",
   "id": "a82c55e2-37a4-444a-a855-acb6f7297648",
   "metadata": {},
   "source": [
    "## Seguros"
   ]
  },
  {
   "cell_type": "code",
   "execution_count": null,
   "id": "3d7d9ed7-3212-4e44-8ccc-063ca6f1ae08",
   "metadata": {},
   "outputs": [],
   "source": []
  },
  {
   "cell_type": "markdown",
   "id": "1fd55ead-f9d6-4f92-ba2f-9c91c6f3c3a6",
   "metadata": {},
   "source": [
    "# Tarjetas"
   ]
  },
  {
   "cell_type": "markdown",
   "id": "2d5a13c3-4b76-45b3-9902-ae19f838b34a",
   "metadata": {},
   "source": [
    "Las tarjetas están asociadas a ciertos productos y cuentas.\n",
    "- Tarjetas de débito\n",
    "- Tarjetas de crédito.\n",
    "<br>\n",
    "\n",
    "Tenemos dos <b>tarjeteras</b> principales. Poseen muchos datos, asi que analizarlas por separado.\n",
    "- Visa\n",
    "- Master\n",
    "<br>\n",
    "\n",
    "A su vez, el cliente puede tener <b>débitos automáticos</b>\n",
    "- cantidades x mes\n",
    "- montos x mes\n",
    "<br>\n",
    "\n",
    "Pueden haber <b>descuentos</b> por el uso de tarjetas:\n",
    "- cant. y monto x mes\n",
    "<br>\n",
    "\n",
    "\n",
    "El cliente puede tener <b>débitos automáticos</b>:\n",
    "- cant. y monto x mes"
   ]
  },
  {
   "cell_type": "markdown",
   "id": "e72ef171-e17e-4eda-95a5-cf0ffdc97a18",
   "metadata": {},
   "source": [
    "# Transacciones"
   ]
  },
  {
   "cell_type": "markdown",
   "id": "da42861d-dd05-4099-892c-b782fd6fb711",
   "metadata": {
    "tags": []
   },
   "source": [
    "Hay varias operaciones que el cliente puede hacer. Cada operación tiene sus propios datos asociados.\n",
    "- Pago de servicios\n",
    "- Compra y venta de moneda\n",
    "- Op. por call-center\n",
    "- Op. por HB\n",
    "- Transferencias\n",
    "    - Recibidas\n",
    "    - Emitidas\n",
    "- Cheques\n",
    "    - Depositados\n",
    "    - Emitidos\n",
    "- Op. en Cajeros Automáticos\n",
    "- Op. por la app.\n",
    "- Op. en caja\n",
    "    - transacciones\n",
    "    - consultas\n",
    "    - depósitos\n",
    "    - extracciones\n",
    "    - otras"
   ]
  },
  {
   "cell_type": "code",
   "execution_count": null,
   "id": "670f11f4-0a6b-4660-87c8-62be8b5684fd",
   "metadata": {},
   "outputs": [],
   "source": [
    "## Graficos "
   ]
  },
  {
   "cell_type": "markdown",
   "id": "75b9b11c-0f7c-484b-afbf-794bfd3be0b8",
   "metadata": {},
   "source": [
    "# Feature Engineering"
   ]
  },
  {
   "cell_type": "code",
   "execution_count": null,
   "id": "476604ef-ddea-4050-a4b8-37886cf9c184",
   "metadata": {},
   "outputs": [],
   "source": [
    "## Group bottom 20% `clarity` by frequency\n",
    "group_category(diamonds, feature = \"clarity\", threshold = 0.2, update = TRUE)\n",
    "\n",
    "## Group bottom 20% `clarity` by `price`\n",
    "group_category(diamonds, feature = \"clarity\", threshold = 0.2, measure = \"price\", update = TRUE)\n",
    "\n",
    "## Dummify diamonds dataset\n",
    "dummify(diamonds)\n",
    "dummify(diamonds, select = \"cut\")\n",
    "\n",
    "## Set values for missing observations\n",
    "df <- data.frame(\"a\" = rnorm(260), \"b\" = rep(letters, 10))\n",
    "df[sample.int(260, 50), ] <- NA\n",
    "set_missing(df, list(0L, \"unknown\"))\n",
    "\n",
    "## Update columns\n",
    "update_columns(airquality, c(\"Month\", \"Day\"), as.factor)\n",
    "update_columns(airquality, 1L, function(x) x^2)\n",
    "\n",
    "## Drop columns\n",
    "drop_columns(diamonds, 8:10)\n",
    "drop_columns(diamonds, \"clarity\")"
   ]
  }
 ],
 "metadata": {
  "kernelspec": {
   "display_name": "R",
   "language": "R",
   "name": "ir"
  },
  "language_info": {
   "codemirror_mode": "r",
   "file_extension": ".r",
   "mimetype": "text/x-r-source",
   "name": "R",
   "pygments_lexer": "r",
   "version": "4.3.3"
  }
 },
 "nbformat": 4,
 "nbformat_minor": 5
}
